{
 "cells": [
  {
   "cell_type": "markdown",
   "metadata": {
    "collapsed": true
   },
   "source": [
    "# Analyzing Used Car Online Listings in Germany\n",
    "### Cleaning and analyzing data exercise\n",
    "I will later addd a description to this proyect "
   ]
  },
  {
   "cell_type": "code",
   "execution_count": 1,
   "metadata": {
    "collapsed": false
   },
   "outputs": [],
   "source": [
    "#Importing packages, reading files \n",
    "import pandas as pd\n",
    "import numpy as np \n",
    "\n",
    "autos = pd.read_csv('autos.csv', encoding= 'Latin-1') \n",
    "#changed default encoding to succesfully read the file "
   ]
  },
  {
   "cell_type": "code",
   "execution_count": 2,
   "metadata": {
    "collapsed": false
   },
   "outputs": [
    {
     "name": "stdout",
     "output_type": "stream",
     "text": [
      "<class 'pandas.core.frame.DataFrame'>\n",
      "RangeIndex: 50000 entries, 0 to 49999\n",
      "Data columns (total 20 columns):\n",
      "dateCrawled            50000 non-null object\n",
      "name                   50000 non-null object\n",
      "seller                 50000 non-null object\n",
      "offerType              50000 non-null object\n",
      "price                  50000 non-null object\n",
      "abtest                 50000 non-null object\n",
      "vehicleType            44905 non-null object\n",
      "yearOfRegistration     50000 non-null int64\n",
      "gearbox                47320 non-null object\n",
      "powerPS                50000 non-null int64\n",
      "model                  47242 non-null object\n",
      "odometer               50000 non-null object\n",
      "monthOfRegistration    50000 non-null int64\n",
      "fuelType               45518 non-null object\n",
      "brand                  50000 non-null object\n",
      "notRepairedDamage      40171 non-null object\n",
      "dateCreated            50000 non-null object\n",
      "nrOfPictures           50000 non-null int64\n",
      "postalCode             50000 non-null int64\n",
      "lastSeen               50000 non-null object\n",
      "dtypes: int64(5), object(15)\n",
      "memory usage: 7.6+ MB\n",
      "           dateCrawled                                               name  \\\n",
      "0  2016-03-26 17:47:46                   Peugeot_807_160_NAVTECH_ON_BOARD   \n",
      "1  2016-04-04 13:38:56         BMW_740i_4_4_Liter_HAMANN_UMBAU_Mega_Optik   \n",
      "2  2016-03-26 18:57:24                         Volkswagen_Golf_1.6_United   \n",
      "3  2016-03-12 16:58:10  Smart_smart_fortwo_coupe_softouch/F1/Klima/Pan...   \n",
      "4  2016-04-01 14:38:50  Ford_Focus_1_6_Benzin_TÜV_neu_ist_sehr_gepfleg...   \n",
      "\n",
      "   seller offerType   price   abtest vehicleType  yearOfRegistration  \\\n",
      "0  privat   Angebot  $5,000  control         bus                2004   \n",
      "1  privat   Angebot  $8,500  control   limousine                1997   \n",
      "2  privat   Angebot  $8,990     test   limousine                2009   \n",
      "3  privat   Angebot  $4,350  control  kleinwagen                2007   \n",
      "4  privat   Angebot  $1,350     test       kombi                2003   \n",
      "\n",
      "     gearbox  powerPS   model   odometer  monthOfRegistration fuelType  \\\n",
      "0    manuell      158  andere  150,000km                    3      lpg   \n",
      "1  automatik      286     7er  150,000km                    6   benzin   \n",
      "2    manuell      102    golf   70,000km                    7   benzin   \n",
      "3  automatik       71  fortwo   70,000km                    6   benzin   \n",
      "4    manuell        0   focus  150,000km                    7   benzin   \n",
      "\n",
      "        brand notRepairedDamage          dateCreated  nrOfPictures  \\\n",
      "0     peugeot              nein  2016-03-26 00:00:00             0   \n",
      "1         bmw              nein  2016-04-04 00:00:00             0   \n",
      "2  volkswagen              nein  2016-03-26 00:00:00             0   \n",
      "3       smart              nein  2016-03-12 00:00:00             0   \n",
      "4        ford              nein  2016-04-01 00:00:00             0   \n",
      "\n",
      "   postalCode             lastSeen  \n",
      "0       79588  2016-04-06 06:45:54  \n",
      "1       71034  2016-04-06 14:45:08  \n",
      "2       35394  2016-04-06 20:15:37  \n",
      "3       33729  2016-03-15 03:16:28  \n",
      "4       39218  2016-04-01 14:38:50   None\n"
     ]
    }
   ],
   "source": [
    "print(autos.head(),\n",
    "     autos.info())"
   ]
  },
  {
   "cell_type": "markdown",
   "metadata": {},
   "source": [
    "From the first glance using the `Dataframe.info()` method we can see some interesting thins about our dataset.\n",
    "1. Columns such as `vehicleType` have `NaN` values\n",
    "2. Columns have uppercase letters\n",
    "3. Columns such as `price` are of type `string` (and not `float` or `int`)\n",
    "    \n",
    "We will try to clean the data from these inperfections and any other issues that arise    "
   ]
  },
  {
   "cell_type": "code",
   "execution_count": 3,
   "metadata": {
    "collapsed": false
   },
   "outputs": [
    {
     "name": "stdout",
     "output_type": "stream",
     "text": [
      "Index(['dateCrawled', 'name', 'seller', 'offerType', 'price', 'abtest',\n",
      "       'vehicleType', 'yearOfRegistration', 'gearbox', 'powerPS', 'model',\n",
      "       'odometer', 'monthOfRegistration', 'fuelType', 'brand',\n",
      "       'notRepairedDamage', 'dateCreated', 'nrOfPictures', 'postalCode',\n",
      "       'lastSeen'],\n",
      "      dtype='object')\n"
     ]
    }
   ],
   "source": [
    "#Lets begin by checking out the columns and making some changes\n",
    "print(autos.columns)  "
   ]
  },
  {
   "cell_type": "code",
   "execution_count": 4,
   "metadata": {
    "collapsed": false
   },
   "outputs": [
    {
     "data": {
      "text/html": [
       "<div>\n",
       "<style scoped>\n",
       "    .dataframe tbody tr th:only-of-type {\n",
       "        vertical-align: middle;\n",
       "    }\n",
       "\n",
       "    .dataframe tbody tr th {\n",
       "        vertical-align: top;\n",
       "    }\n",
       "\n",
       "    .dataframe thead th {\n",
       "        text-align: right;\n",
       "    }\n",
       "</style>\n",
       "<table border=\"1\" class=\"dataframe\">\n",
       "  <thead>\n",
       "    <tr style=\"text-align: right;\">\n",
       "      <th></th>\n",
       "      <th>date_crawled</th>\n",
       "      <th>name</th>\n",
       "      <th>seller</th>\n",
       "      <th>offer_type</th>\n",
       "      <th>price</th>\n",
       "      <th>ab_test</th>\n",
       "      <th>vehicle_type</th>\n",
       "      <th>registration_year</th>\n",
       "      <th>gearbox</th>\n",
       "      <th>power_ps</th>\n",
       "      <th>model</th>\n",
       "      <th>odometer</th>\n",
       "      <th>registration_month</th>\n",
       "      <th>fuel_type</th>\n",
       "      <th>brand</th>\n",
       "      <th>unrepaired_damage</th>\n",
       "      <th>ad_created</th>\n",
       "      <th>nr_of_pictures</th>\n",
       "      <th>postal_code</th>\n",
       "      <th>last_seen</th>\n",
       "    </tr>\n",
       "  </thead>\n",
       "  <tbody>\n",
       "    <tr>\n",
       "      <th>0</th>\n",
       "      <td>2016-03-26 17:47:46</td>\n",
       "      <td>Peugeot_807_160_NAVTECH_ON_BOARD</td>\n",
       "      <td>privat</td>\n",
       "      <td>Angebot</td>\n",
       "      <td>$5,000</td>\n",
       "      <td>control</td>\n",
       "      <td>bus</td>\n",
       "      <td>2004</td>\n",
       "      <td>manuell</td>\n",
       "      <td>158</td>\n",
       "      <td>andere</td>\n",
       "      <td>150,000km</td>\n",
       "      <td>3</td>\n",
       "      <td>lpg</td>\n",
       "      <td>peugeot</td>\n",
       "      <td>nein</td>\n",
       "      <td>2016-03-26 00:00:00</td>\n",
       "      <td>0</td>\n",
       "      <td>79588</td>\n",
       "      <td>2016-04-06 06:45:54</td>\n",
       "    </tr>\n",
       "    <tr>\n",
       "      <th>1</th>\n",
       "      <td>2016-04-04 13:38:56</td>\n",
       "      <td>BMW_740i_4_4_Liter_HAMANN_UMBAU_Mega_Optik</td>\n",
       "      <td>privat</td>\n",
       "      <td>Angebot</td>\n",
       "      <td>$8,500</td>\n",
       "      <td>control</td>\n",
       "      <td>limousine</td>\n",
       "      <td>1997</td>\n",
       "      <td>automatik</td>\n",
       "      <td>286</td>\n",
       "      <td>7er</td>\n",
       "      <td>150,000km</td>\n",
       "      <td>6</td>\n",
       "      <td>benzin</td>\n",
       "      <td>bmw</td>\n",
       "      <td>nein</td>\n",
       "      <td>2016-04-04 00:00:00</td>\n",
       "      <td>0</td>\n",
       "      <td>71034</td>\n",
       "      <td>2016-04-06 14:45:08</td>\n",
       "    </tr>\n",
       "    <tr>\n",
       "      <th>2</th>\n",
       "      <td>2016-03-26 18:57:24</td>\n",
       "      <td>Volkswagen_Golf_1.6_United</td>\n",
       "      <td>privat</td>\n",
       "      <td>Angebot</td>\n",
       "      <td>$8,990</td>\n",
       "      <td>test</td>\n",
       "      <td>limousine</td>\n",
       "      <td>2009</td>\n",
       "      <td>manuell</td>\n",
       "      <td>102</td>\n",
       "      <td>golf</td>\n",
       "      <td>70,000km</td>\n",
       "      <td>7</td>\n",
       "      <td>benzin</td>\n",
       "      <td>volkswagen</td>\n",
       "      <td>nein</td>\n",
       "      <td>2016-03-26 00:00:00</td>\n",
       "      <td>0</td>\n",
       "      <td>35394</td>\n",
       "      <td>2016-04-06 20:15:37</td>\n",
       "    </tr>\n",
       "    <tr>\n",
       "      <th>3</th>\n",
       "      <td>2016-03-12 16:58:10</td>\n",
       "      <td>Smart_smart_fortwo_coupe_softouch/F1/Klima/Pan...</td>\n",
       "      <td>privat</td>\n",
       "      <td>Angebot</td>\n",
       "      <td>$4,350</td>\n",
       "      <td>control</td>\n",
       "      <td>kleinwagen</td>\n",
       "      <td>2007</td>\n",
       "      <td>automatik</td>\n",
       "      <td>71</td>\n",
       "      <td>fortwo</td>\n",
       "      <td>70,000km</td>\n",
       "      <td>6</td>\n",
       "      <td>benzin</td>\n",
       "      <td>smart</td>\n",
       "      <td>nein</td>\n",
       "      <td>2016-03-12 00:00:00</td>\n",
       "      <td>0</td>\n",
       "      <td>33729</td>\n",
       "      <td>2016-03-15 03:16:28</td>\n",
       "    </tr>\n",
       "    <tr>\n",
       "      <th>4</th>\n",
       "      <td>2016-04-01 14:38:50</td>\n",
       "      <td>Ford_Focus_1_6_Benzin_TÜV_neu_ist_sehr_gepfleg...</td>\n",
       "      <td>privat</td>\n",
       "      <td>Angebot</td>\n",
       "      <td>$1,350</td>\n",
       "      <td>test</td>\n",
       "      <td>kombi</td>\n",
       "      <td>2003</td>\n",
       "      <td>manuell</td>\n",
       "      <td>0</td>\n",
       "      <td>focus</td>\n",
       "      <td>150,000km</td>\n",
       "      <td>7</td>\n",
       "      <td>benzin</td>\n",
       "      <td>ford</td>\n",
       "      <td>nein</td>\n",
       "      <td>2016-04-01 00:00:00</td>\n",
       "      <td>0</td>\n",
       "      <td>39218</td>\n",
       "      <td>2016-04-01 14:38:50</td>\n",
       "    </tr>\n",
       "  </tbody>\n",
       "</table>\n",
       "</div>"
      ],
      "text/plain": [
       "          date_crawled                                               name  \\\n",
       "0  2016-03-26 17:47:46                   Peugeot_807_160_NAVTECH_ON_BOARD   \n",
       "1  2016-04-04 13:38:56         BMW_740i_4_4_Liter_HAMANN_UMBAU_Mega_Optik   \n",
       "2  2016-03-26 18:57:24                         Volkswagen_Golf_1.6_United   \n",
       "3  2016-03-12 16:58:10  Smart_smart_fortwo_coupe_softouch/F1/Klima/Pan...   \n",
       "4  2016-04-01 14:38:50  Ford_Focus_1_6_Benzin_TÜV_neu_ist_sehr_gepfleg...   \n",
       "\n",
       "   seller offer_type   price  ab_test vehicle_type  registration_year  \\\n",
       "0  privat    Angebot  $5,000  control          bus               2004   \n",
       "1  privat    Angebot  $8,500  control    limousine               1997   \n",
       "2  privat    Angebot  $8,990     test    limousine               2009   \n",
       "3  privat    Angebot  $4,350  control   kleinwagen               2007   \n",
       "4  privat    Angebot  $1,350     test        kombi               2003   \n",
       "\n",
       "     gearbox  power_ps   model   odometer  registration_month fuel_type  \\\n",
       "0    manuell       158  andere  150,000km                   3       lpg   \n",
       "1  automatik       286     7er  150,000km                   6    benzin   \n",
       "2    manuell       102    golf   70,000km                   7    benzin   \n",
       "3  automatik        71  fortwo   70,000km                   6    benzin   \n",
       "4    manuell         0   focus  150,000km                   7    benzin   \n",
       "\n",
       "        brand unrepaired_damage           ad_created  nr_of_pictures  \\\n",
       "0     peugeot              nein  2016-03-26 00:00:00               0   \n",
       "1         bmw              nein  2016-04-04 00:00:00               0   \n",
       "2  volkswagen              nein  2016-03-26 00:00:00               0   \n",
       "3       smart              nein  2016-03-12 00:00:00               0   \n",
       "4        ford              nein  2016-04-01 00:00:00               0   \n",
       "\n",
       "   postal_code            last_seen  \n",
       "0        79588  2016-04-06 06:45:54  \n",
       "1        71034  2016-04-06 14:45:08  \n",
       "2        35394  2016-04-06 20:15:37  \n",
       "3        33729  2016-03-15 03:16:28  \n",
       "4        39218  2016-04-01 14:38:50  "
      ]
     },
     "execution_count": 4,
     "metadata": {},
     "output_type": "execute_result"
    }
   ],
   "source": [
    "autos_copy = ['date_crawled', 'name', 'seller', 'offer_type', 'price', 'ab_test',\n",
    "       'vehicle_type', 'registration_year', 'gearbox', 'power_ps', 'model',\n",
    "       'odometer', 'registration_month', 'fuel_type', 'brand',\n",
    "       'unrepaired_damage', 'ad_created', 'nr_of_pictures', 'postal_code',\n",
    "       'last_seen'] #Copied the output above and made some changes\n",
    "\n",
    "autos.columns = autos_copy\n",
    "autos.head()"
   ]
  },
  {
   "cell_type": "markdown",
   "metadata": {},
   "source": [
    "## Changes made to the original headers\n",
    "I have manually changed the original column headers to make the data easier to work with. I changed some columns from `monthOfRegistration` or `notRepairedDamage` to `registration_month` and `unreparied_damage` repectively. I did this to make the headers clearer and easier to understand. In addition to changing some columns names, I changes all of the columns to a snakecase for consistency (previously camelcase). \n",
    "\n",
    "*These changes are a good step but lets keep exploring to see what else can we clean in this dataset*"
   ]
  },
  {
   "cell_type": "code",
   "execution_count": 5,
   "metadata": {
    "collapsed": false
   },
   "outputs": [
    {
     "name": "stdout",
     "output_type": "stream",
     "text": [
      "               date_crawled         name  seller offer_type  price ab_test  \\\n",
      "count                 50000        50000   50000      50000  50000   50000   \n",
      "unique                48213        38754       2          2   2357       2   \n",
      "top     2016-04-04 16:40:33  Ford_Fiesta  privat    Angebot     $0    test   \n",
      "freq                      3           78   49999      49999   1421   25756   \n",
      "mean                    NaN          NaN     NaN        NaN    NaN     NaN   \n",
      "std                     NaN          NaN     NaN        NaN    NaN     NaN   \n",
      "min                     NaN          NaN     NaN        NaN    NaN     NaN   \n",
      "25%                     NaN          NaN     NaN        NaN    NaN     NaN   \n",
      "50%                     NaN          NaN     NaN        NaN    NaN     NaN   \n",
      "75%                     NaN          NaN     NaN        NaN    NaN     NaN   \n",
      "max                     NaN          NaN     NaN        NaN    NaN     NaN   \n",
      "\n",
      "       vehicle_type  registration_year  gearbox      power_ps  model  \\\n",
      "count         44905       50000.000000    47320  50000.000000  47242   \n",
      "unique            8                NaN        2           NaN    245   \n",
      "top       limousine                NaN  manuell           NaN   golf   \n",
      "freq          12859                NaN    36993           NaN   4024   \n",
      "mean            NaN        2005.073280      NaN    116.355920    NaN   \n",
      "std             NaN         105.712813      NaN    209.216627    NaN   \n",
      "min             NaN        1000.000000      NaN      0.000000    NaN   \n",
      "25%             NaN        1999.000000      NaN     70.000000    NaN   \n",
      "50%             NaN        2003.000000      NaN    105.000000    NaN   \n",
      "75%             NaN        2008.000000      NaN    150.000000    NaN   \n",
      "max             NaN        9999.000000      NaN  17700.000000    NaN   \n",
      "\n",
      "         odometer  registration_month fuel_type       brand unrepaired_damage  \\\n",
      "count       50000        50000.000000     45518       50000             40171   \n",
      "unique         13                 NaN         7          40                 2   \n",
      "top     150,000km                 NaN    benzin  volkswagen              nein   \n",
      "freq        32424                 NaN     30107       10687             35232   \n",
      "mean          NaN            5.723360       NaN         NaN               NaN   \n",
      "std           NaN            3.711984       NaN         NaN               NaN   \n",
      "min           NaN            0.000000       NaN         NaN               NaN   \n",
      "25%           NaN            3.000000       NaN         NaN               NaN   \n",
      "50%           NaN            6.000000       NaN         NaN               NaN   \n",
      "75%           NaN            9.000000       NaN         NaN               NaN   \n",
      "max           NaN           12.000000       NaN         NaN               NaN   \n",
      "\n",
      "                 ad_created  nr_of_pictures   postal_code            last_seen  \n",
      "count                 50000         50000.0  50000.000000                50000  \n",
      "unique                   76             NaN           NaN                39481  \n",
      "top     2016-04-03 00:00:00             NaN           NaN  2016-04-07 06:17:27  \n",
      "freq                   1946             NaN           NaN                    8  \n",
      "mean                    NaN             0.0  50813.627300                  NaN  \n",
      "std                     NaN             0.0  25779.747957                  NaN  \n",
      "min                     NaN             0.0   1067.000000                  NaN  \n",
      "25%                     NaN             0.0  30451.000000                  NaN  \n",
      "50%                     NaN             0.0  49577.000000                  NaN  \n",
      "75%                     NaN             0.0  71540.000000                  NaN  \n",
      "max                     NaN             0.0  99998.000000                  NaN  \n"
     ]
    }
   ],
   "source": [
    "print(autos.describe(include = 'all'))"
   ]
  },
  {
   "cell_type": "markdown",
   "metadata": {},
   "source": [
    "We can note above that the `price` and `odometer` columns are stored as text values instead of `float` or `int` values. Another interesting observation is that the `seller` and `offer_type` have almost all the same values except for one data point on each column. \n",
    "\n",
    "We will start by tackling the first observation and convert the string solumns to numerical values"
   ]
  },
  {
   "cell_type": "code",
   "execution_count": 6,
   "metadata": {
    "collapsed": false
   },
   "outputs": [
    {
     "name": "stdout",
     "output_type": "stream",
     "text": [
      "0    $5,000\n",
      "1    $8,500\n",
      "2    $8,990\n",
      "3    $4,350\n",
      "4    $1,350\n",
      "Name: price, dtype: object 150,000km    32424\n",
      "125,000km     5170\n",
      "100,000km     2169\n",
      "90,000km      1757\n",
      "80,000km      1436\n",
      "70,000km      1230\n",
      "60,000km      1164\n",
      "50,000km      1027\n",
      "5,000km        967\n",
      "40,000km       819\n",
      "30,000km       789\n",
      "20,000km       784\n",
      "10,000km       264\n",
      "Name: odometer, dtype: int64\n"
     ]
    }
   ],
   "source": [
    "#first lets explore how are our dta points saved and note for patterns\n",
    "print(autos['price'].head(),\n",
    "     autos['odometer'].value_counts())"
   ]
  },
  {
   "cell_type": "code",
   "execution_count": 7,
   "metadata": {
    "collapsed": false
   },
   "outputs": [
    {
     "name": "stdout",
     "output_type": "stream",
     "text": [
      "int64 int64\n"
     ]
    }
   ],
   "source": [
    "#Now that we have seen the patterns lets remove non-numeric characters\n",
    "autos['price'] = (autos['price'].str.replace('$', '')\n",
    "                 .str.replace(',', '')\n",
    "                 .astype(int) #change data type\n",
    "                 )\n",
    "autos['odometer'] = (autos['odometer'].str.replace(',', '')\n",
    "                    .str.replace('km', '') \n",
    "                     .astype(int) #change data type\n",
    "                    )\n",
    "\n",
    "#Now lets change the name of the columns as no to lose the information\n",
    "autos.rename({'odometer':'odometer_km'}, axis = 1, inplace = True)\n",
    "\n",
    "#Let check the results\n",
    "print(autos['price'].dtype,\n",
    "     autos['odometer_km'].dtype)"
   ]
  },
  {
   "cell_type": "code",
   "execution_count": 8,
   "metadata": {
    "collapsed": false
   },
   "outputs": [
    {
     "name": "stdout",
     "output_type": "stream",
     "text": [
      "(2357,) count    5.000000e+04\n",
      "mean     9.840044e+03\n",
      "std      4.811044e+05\n",
      "min      0.000000e+00\n",
      "25%      1.100000e+03\n",
      "50%      2.950000e+03\n",
      "75%      7.200000e+03\n",
      "max      1.000000e+08\n",
      "Name: price, dtype: float64 99999999    1\n",
      "27322222    1\n",
      "12345678    3\n",
      "11111111    2\n",
      "10000000    1\n",
      "3890000     1\n",
      "1300000     1\n",
      "1234566     1\n",
      "999999      2\n",
      "999990      1\n",
      "Name: price, dtype: int64\n",
      "(13,) count     50000.000000\n",
      "mean     125732.700000\n",
      "std       40042.211706\n",
      "min        5000.000000\n",
      "25%      125000.000000\n",
      "50%      150000.000000\n",
      "75%      150000.000000\n",
      "max      150000.000000\n",
      "Name: odometer_km, dtype: float64 150000    32424\n",
      "125000     5170\n",
      "100000     2169\n",
      "90000      1757\n",
      "80000      1436\n",
      "70000      1230\n",
      "60000      1164\n",
      "50000      1027\n",
      "5000        967\n",
      "40000       819\n",
      "30000       789\n",
      "20000       784\n",
      "10000       264\n",
      "Name: odometer_km, dtype: int64\n"
     ]
    }
   ],
   "source": [
    "#Lets dig deeper on these two columns that are very important for our analysis\n",
    "print(autos['price'].unique().shape, \n",
    "     autos['price'].describe(),\n",
    "     autos['price'].value_counts().sort_index(ascending = False).head(10)\n",
    "     )\n",
    "\n",
    "print(autos['odometer_km'].unique().shape, \n",
    "     autos['odometer_km'].describe(),\n",
    "     autos['odometer_km'].value_counts()\n",
    "     )"
   ]
  },
  {
   "cell_type": "code",
   "execution_count": 9,
   "metadata": {
    "collapsed": false
   },
   "outputs": [
    {
     "name": "stdout",
     "output_type": "stream",
     "text": [
      "(2348,) count     48568.000000\n",
      "mean       5950.340656\n",
      "std       11963.134750\n",
      "min           1.000000\n",
      "25%        1200.000000\n",
      "50%        3000.000000\n",
      "75%        7490.000000\n",
      "max      999999.000000\n",
      "Name: price, dtype: float64\n"
     ]
    }
   ],
   "source": [
    "#Lets only keep rows where the price is between 1 and 1 million\n",
    "autos = autos[autos['price'].between(1, 1000000)]\n",
    "print(autos['price'].unique().shape,\n",
    "      autos['price'].describe())\n",
    "      "
   ]
  },
  {
   "cell_type": "markdown",
   "metadata": {},
   "source": [
    "Now we have cleaned the `price` column from outliers. What we can see from the remaining values is that the std is very large and that mean is far from the median."
   ]
  },
  {
   "cell_type": "code",
   "execution_count": 10,
   "metadata": {
    "collapsed": false
   },
   "outputs": [
    {
     "name": "stdout",
     "output_type": "stream",
     "text": [
      "2016-03-05    0.025325\n",
      "2016-03-06    0.014042\n",
      "2016-03-07    0.036011\n",
      "2016-03-08    0.033294\n",
      "2016-03-09    0.033088\n",
      "2016-03-10    0.032182\n",
      "2016-03-11    0.032573\n",
      "2016-03-12    0.036917\n",
      "2016-03-13    0.015669\n",
      "2016-03-14    0.036547\n",
      "2016-03-15    0.034282\n",
      "2016-03-16    0.029608\n",
      "2016-03-17    0.031646\n",
      "2016-03-18    0.012910\n",
      "2016-03-19    0.034776\n",
      "2016-03-20    0.037885\n",
      "2016-03-21    0.037391\n",
      "2016-03-22    0.032985\n",
      "2016-03-23    0.032223\n",
      "2016-03-24    0.029340\n",
      "2016-03-25    0.031605\n",
      "2016-03-26    0.032202\n",
      "2016-03-27    0.031090\n",
      "2016-03-28    0.034858\n",
      "2016-03-29    0.034117\n",
      "2016-03-30    0.033685\n",
      "2016-03-31    0.031832\n",
      "2016-04-01    0.033685\n",
      "2016-04-02    0.035476\n",
      "2016-04-03    0.038606\n",
      "2016-04-04    0.036485\n",
      "2016-04-05    0.013095\n",
      "2016-04-06    0.003171\n",
      "2016-04-07    0.001400\n",
      "Name: date_crawled, dtype: float64 2015-06-11    0.000021\n",
      "2015-08-10    0.000021\n",
      "2015-09-09    0.000021\n",
      "2015-11-10    0.000021\n",
      "2015-12-05    0.000021\n",
      "2015-12-30    0.000021\n",
      "2016-01-03    0.000021\n",
      "2016-01-07    0.000021\n",
      "2016-01-10    0.000041\n",
      "2016-01-13    0.000021\n",
      "2016-01-14    0.000021\n",
      "2016-01-16    0.000021\n",
      "2016-01-22    0.000021\n",
      "2016-01-27    0.000062\n",
      "2016-01-29    0.000021\n",
      "2016-02-01    0.000021\n",
      "2016-02-02    0.000041\n",
      "2016-02-05    0.000041\n",
      "2016-02-07    0.000021\n",
      "2016-02-08    0.000021\n",
      "2016-02-09    0.000021\n",
      "2016-02-11    0.000021\n",
      "2016-02-12    0.000041\n",
      "2016-02-14    0.000041\n",
      "2016-02-16    0.000021\n",
      "2016-02-17    0.000021\n",
      "2016-02-18    0.000041\n",
      "2016-02-19    0.000062\n",
      "2016-02-20    0.000041\n",
      "2016-02-21    0.000062\n",
      "                ...   \n",
      "2016-03-09    0.033149\n",
      "2016-03-10    0.031893\n",
      "2016-03-11    0.032902\n",
      "2016-03-12    0.036753\n",
      "2016-03-13    0.017007\n",
      "2016-03-14    0.035188\n",
      "2016-03-15    0.034014\n",
      "2016-03-16    0.030123\n",
      "2016-03-17    0.031296\n",
      "2016-03-18    0.013589\n",
      "2016-03-19    0.033685\n",
      "2016-03-20    0.037947\n",
      "2016-03-21    0.037597\n",
      "2016-03-22    0.032799\n",
      "2016-03-23    0.032058\n",
      "2016-03-24    0.029279\n",
      "2016-03-25    0.031749\n",
      "2016-03-26    0.032264\n",
      "2016-03-27    0.030987\n",
      "2016-03-28    0.034982\n",
      "2016-03-29    0.034055\n",
      "2016-03-30    0.033499\n",
      "2016-03-31    0.031873\n",
      "2016-04-01    0.033685\n",
      "2016-04-02    0.035147\n",
      "2016-04-03    0.038853\n",
      "2016-04-04    0.036856\n",
      "2016-04-05    0.011818\n",
      "2016-04-06    0.003253\n",
      "2016-04-07    0.001256\n",
      "Name: ad_created, Length: 76, dtype: float64 2016-03-05    0.001071\n",
      "2016-03-06    0.004324\n",
      "2016-03-07    0.005394\n",
      "2016-03-08    0.007412\n",
      "2016-03-09    0.009595\n",
      "2016-03-10    0.010665\n",
      "2016-03-11    0.012374\n",
      "2016-03-12    0.023781\n",
      "2016-03-13    0.008895\n",
      "2016-03-14    0.012601\n",
      "2016-03-15    0.015875\n",
      "2016-03-16    0.016451\n",
      "2016-03-17    0.028084\n",
      "2016-03-18    0.007351\n",
      "2016-03-19    0.015833\n",
      "2016-03-20    0.020651\n",
      "2016-03-21    0.020631\n",
      "2016-03-22    0.021372\n",
      "2016-03-23    0.018531\n",
      "2016-03-24    0.019766\n",
      "2016-03-25    0.019210\n",
      "2016-03-26    0.016801\n",
      "2016-03-27    0.015648\n",
      "2016-03-28    0.020878\n",
      "2016-03-29    0.022360\n",
      "2016-03-30    0.024769\n",
      "2016-03-31    0.023781\n",
      "2016-04-01    0.022793\n",
      "2016-04-02    0.024914\n",
      "2016-04-03    0.025202\n",
      "2016-04-04    0.024481\n",
      "2016-04-05    0.124753\n",
      "2016-04-06    0.221813\n",
      "2016-04-07    0.131939\n",
      "Name: last_seen, dtype: float64\n"
     ]
    }
   ],
   "source": [
    "#Since the date in the format YYYY-MM-DD is the first ten characters \n",
    "#we will extract those characters to work with \n",
    "autos['date_crawled'] = autos['date_crawled'].str[:10]\n",
    "autos['ad_created'] = autos['ad_created'].str[:10]\n",
    "autos['last_seen'] = autos['last_seen'].str[:10]\n",
    "\n",
    "#lets explore the frequency per dates in ascending order\n",
    "print(autos['date_crawled'].value_counts(normalize = True, dropna = False).sort_index(),\n",
    "      autos['ad_created'].value_counts(normalize = True, dropna = False).sort_index(),\n",
    "      autos['last_seen'].value_counts(normalize = True, dropna = False).sort_index()\n",
    "     )\n",
    "     "
   ]
  },
  {
   "cell_type": "markdown",
   "metadata": {},
   "source": [
    "#### When looking at the distribution in the frequency of the dates we can se some notable patterns:\n",
    "\n",
    "The crawler extracted information from the listings in the course of a month, doing so in a consistent manner.\n",
    "\n",
    "The listings themselves were created in the span of almost a year. However, most of the listings come from the more recent months such as march 2016.\n",
    "\n",
    "Lastly, we can clearly note that the the crawler last saw the listings in the last months of its crwaling. (with close to 50% in the last three days)"
   ]
  },
  {
   "cell_type": "code",
   "execution_count": 11,
   "metadata": {
    "collapsed": false
   },
   "outputs": [
    {
     "data": {
      "text/plain": [
       "count    48568.000000\n",
       "mean      2004.754612\n",
       "std         88.641262\n",
       "min       1000.000000\n",
       "25%       1999.000000\n",
       "50%       2004.000000\n",
       "75%       2008.000000\n",
       "max       9999.000000\n",
       "Name: registration_year, dtype: float64"
      ]
     },
     "execution_count": 11,
     "metadata": {},
     "output_type": "execute_result"
    }
   ],
   "source": [
    "#Now lets explore the registration year\n",
    "autos['registration_year'].describe()"
   ]
  },
  {
   "cell_type": "markdown",
   "metadata": {},
   "source": [
    "When cheking the registration years of the used cars for sale we can see that there are some problems with our data:\n",
    "1. Some data is missing\n",
    "2. The minimum is 1000 which can't be possible \n",
    "3. The maximum is year 9999 which is clearly wrong\n"
   ]
  },
  {
   "cell_type": "code",
   "execution_count": 12,
   "metadata": {
    "collapsed": false
   },
   "outputs": [
    {
     "name": "stdout",
     "output_type": "stream",
     "text": [
      "1889\n"
     ]
    }
   ],
   "source": [
    "#Count the # vehicles with registration after the year 2016 or before year 1920\n",
    "#(Which we consider wrong and should probably remove)\n",
    "autos_selection = autos[(autos['registration_year'] > 2016) | (autos['registration_year'] < 1920)]\n",
    "print(autos_selection.iloc[:,0].count())"
   ]
  },
  {
   "cell_type": "code",
   "execution_count": 13,
   "metadata": {
    "collapsed": false
   },
   "outputs": [
    {
     "name": "stdout",
     "output_type": "stream",
     "text": [
      "count    46679.000000\n",
      "mean      2002.919985\n",
      "std          7.121876\n",
      "min       1927.000000\n",
      "25%       1999.000000\n",
      "50%       2003.000000\n",
      "75%       2008.000000\n",
      "max       2016.000000\n",
      "Name: registration_year, dtype: float64 1927.0    0.000021\n",
      "1929.0    0.000021\n",
      "1931.0    0.000021\n",
      "1934.0    0.000043\n",
      "1937.0    0.000086\n",
      "1938.0    0.000021\n",
      "1939.0    0.000021\n",
      "1941.0    0.000043\n",
      "1943.0    0.000021\n",
      "1948.0    0.000021\n",
      "1950.0    0.000064\n",
      "1951.0    0.000043\n",
      "1952.0    0.000021\n",
      "1953.0    0.000021\n",
      "1954.0    0.000043\n",
      "1955.0    0.000043\n",
      "1956.0    0.000086\n",
      "1957.0    0.000043\n",
      "1958.0    0.000086\n",
      "1959.0    0.000129\n",
      "1960.0    0.000493\n",
      "1961.0    0.000129\n",
      "1962.0    0.000086\n",
      "1963.0    0.000171\n",
      "1964.0    0.000257\n",
      "1965.0    0.000364\n",
      "1966.0    0.000471\n",
      "1967.0    0.000557\n",
      "1968.0    0.000557\n",
      "1969.0    0.000407\n",
      "            ...   \n",
      "1987.0    0.001542\n",
      "1988.0    0.002892\n",
      "1989.0    0.003728\n",
      "1990.0    0.007434\n",
      "1991.0    0.007262\n",
      "1992.0    0.007926\n",
      "1993.0    0.009105\n",
      "1994.0    0.013475\n",
      "1995.0    0.026286\n",
      "1996.0    0.029414\n",
      "1997.0    0.041796\n",
      "1998.0    0.050622\n",
      "1999.0    0.062062\n",
      "2000.0    0.067611\n",
      "2001.0    0.056471\n",
      "2002.0    0.053257\n",
      "2003.0    0.057820\n",
      "2004.0    0.057906\n",
      "2005.0    0.062898\n",
      "2006.0    0.057199\n",
      "2007.0    0.048780\n",
      "2008.0    0.047452\n",
      "2009.0    0.044688\n",
      "2010.0    0.034041\n",
      "2011.0    0.034769\n",
      "2012.0    0.028064\n",
      "2013.0    0.017203\n",
      "2014.0    0.014203\n",
      "2015.0    0.008398\n",
      "2016.0    0.026136\n",
      "Name: registration_year, Length: 77, dtype: float64\n"
     ]
    }
   ],
   "source": [
    "#We will remove alls rows that have unrealistic registration_years\n",
    "autos['registration_year'] = autos.loc[autos['registration_year'].between(1920, 2016),'registration_year']\n",
    "\n",
    "print(autos['registration_year'].describe(),\n",
    "      autos['registration_year'].value_counts(normalize=True).sort_index()\n",
    "     )"
   ]
  },
  {
   "cell_type": "markdown",
   "metadata": {},
   "source": [
    "Now that we have removed the inexplicable `registration_year` values, we can se that the averaga year is 2003 and that the mayority of the used cars for sale are from the years 1997-2009 (inclusive)"
   ]
  },
  {
   "cell_type": "code",
   "execution_count": 14,
   "metadata": {
    "collapsed": false
   },
   "outputs": [
    {
     "name": "stdout",
     "output_type": "stream",
     "text": [
      "volkswagen       10338\n",
      "opel              5277\n",
      "bmw               5274\n",
      "mercedes_benz     4652\n",
      "audi              4168\n",
      "ford              3383\n",
      "renault           2325\n",
      "peugeot           1430\n",
      "fiat              1262\n",
      "seat               920\n",
      "Name: brand, dtype: int64\n"
     ]
    }
   ],
   "source": [
    "#Explore car brands\n",
    "print(autos['brand'].value_counts()[:10])\n",
    "\n",
    "        "
   ]
  },
  {
   "cell_type": "markdown",
   "metadata": {},
   "source": [
    "We can see that the most common car brands in the used car listings are: volkswagen, opel, bmw, mercedes and audi.\n",
    "\n",
    "These are the brands that we will aggregate and calculate the average prices"
   ]
  },
  {
   "cell_type": "code",
   "execution_count": 15,
   "metadata": {
    "collapsed": false
   },
   "outputs": [
    {
     "name": "stdout",
     "output_type": "stream",
     "text": [
      "peugeot: 3,066\n",
      "renault: 2,431\n",
      "mercedes_benz: 8,536\n",
      "opel: 2,945\n",
      "volkswagen: 5,525\n",
      "ford: 4,023\n",
      "audi: 9,213\n",
      "fiat: 2,794\n",
      "bmw: 8,261\n",
      "seat: 4,316\n"
     ]
    }
   ],
   "source": [
    "brands = ['volkswagen', 'opel', 'bmw' , 'mercedes_benz', 'audi', 'ford', 'renault', 'peugeot', 'fiat', 'seat']\n",
    "brands_avg_price = {}\n",
    "\n",
    "for b in brands:\n",
    "    mean = autos.loc[autos['brand'] == b,'price'].mean()\n",
    "    brands_avg_price[b] = mean\n",
    "    \n",
    "for key, value in brands_avg_price.items():\n",
    "    print('{}: {:,.0f}'.format(key, value))"
   ]
  },
  {
   "cell_type": "markdown",
   "metadata": {
    "collapsed": true
   },
   "source": [
    "Now we can see that the brands such as audi, mercedes benz, and bmw are much more expensive as brands such as fiat or renault. Let calculate the average miles per brand to see if the milage might provide an explaination to this observed pattern. "
   ]
  },
  {
   "cell_type": "code",
   "execution_count": 20,
   "metadata": {
    "collapsed": false
   },
   "outputs": [
    {
     "name": "stdout",
     "output_type": "stream",
     "text": [
      "peugeot: 127,357 avg kms per listed car\n",
      "renault: 128,062 avg kms per listed car\n",
      "mercedes_benz: 130,796 avg kms per listed car\n",
      "opel: 129,383 avg kms per listed car\n",
      "volkswagen: 128,901 avg kms per listed car\n",
      "ford: 124,350 avg kms per listed car\n",
      "audi: 129,493 avg kms per listed car\n",
      "fiat: 117,567 avg kms per listed car\n",
      "bmw: 132,683 avg kms per listed car\n",
      "seat: 121,641 avg kms per listed car\n"
     ]
    }
   ],
   "source": [
    "brand_avg_milage = {}\n",
    "\n",
    "for b in brands:\n",
    "    mean = autos.loc[autos['brand'] == b, 'odometer_km'].mean()\n",
    "    brand_avg_milage[b] = mean\n",
    "\n",
    "for key , value in brand_avg_milage.items():\n",
    "    print('{}: {:,.0f} avg kms per listed car'.format(key, value))"
   ]
  },
  {
   "cell_type": "code",
   "execution_count": 23,
   "metadata": {
    "collapsed": false
   },
   "outputs": [
    {
     "name": "stdout",
     "output_type": "stream",
     "text": [
      "                mean_price       mean_kms\n",
      "audi           9212.930662  129492.562380\n",
      "bmw            8261.382442  132682.973075\n",
      "fiat           2793.870048  117567.353407\n",
      "ford           4022.905409  124349.689625\n",
      "mercedes_benz  8536.027085  130796.431642\n",
      "opel           2944.607542  129383.172257\n",
      "peugeot        3065.611888  127356.643357\n",
      "renault        2431.195699  128062.365591\n",
      "seat           4315.744565  121641.304348\n",
      "volkswagen     5524.906752  128900.657767\n"
     ]
    }
   ],
   "source": [
    "#Now lets transform both series objects into one Dataframe for comparison\n",
    "series_avg_price = pd.Series(brands_avg_price)\n",
    "df_comparison = pd.DataFrame(series_avg_price, columns=['mean_price'])\n",
    "df_comparison['mean_kms'] = pd.Series(brand_avg_milage)\n",
    "print(df_comparison)"
   ]
  },
  {
   "cell_type": "markdown",
   "metadata": {},
   "source": [
    "When looking at the DataFrame we can see that the most expensive brands are not the brands with the highest avg km per listing. In fact quite the oposite is true. Fiat, for example has the lowest average kms per used car listing and it is has the lowest average listing price. \n",
    "\n",
    "This shows us that sellers of premium brands do believe that their car is worth more than the average car even if it has more kilometers than other car brands. (This could be do to the colection cars)"
   ]
  },
  {
   "cell_type": "code",
   "execution_count": null,
   "metadata": {
    "collapsed": true
   },
   "outputs": [],
   "source": []
  }
 ],
 "metadata": {
  "kernelspec": {
   "display_name": "Python 3",
   "language": "python",
   "name": "python3"
  },
  "language_info": {
   "codemirror_mode": {
    "name": "ipython",
    "version": 3
   },
   "file_extension": ".py",
   "mimetype": "text/x-python",
   "name": "python",
   "nbconvert_exporter": "python",
   "pygments_lexer": "ipython3",
   "version": "3.4.3"
  }
 },
 "nbformat": 4,
 "nbformat_minor": 2
}
