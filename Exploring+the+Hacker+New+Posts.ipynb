{
 "cells": [
  {
   "cell_type": "markdown",
   "metadata": {
    "collapsed": true
   },
   "source": [
    "# Analyzing the posts in the Hacker News\n",
    "### What time of day is best to post on Hacker News?\n",
    "\n",
    "In this proyect we will analyze the Hacker News database and compare two main types of posts that are common on the website. The \"Ask HN\" and the \"Show HN\" are among the most common posts on the website. We will analyze information of the mentioned posts such as: number of coments, hour of the day with higher number of comments, number of points, hour of the day with the higher number of points, etc"
   ]
  },
  {
   "cell_type": "code",
   "execution_count": 1,
   "metadata": {
    "collapsed": false
   },
   "outputs": [
    {
     "name": "stdout",
     "output_type": "stream",
     "text": [
      "[['id', 'title', 'url', 'num_points', 'num_comments', 'author', 'created_at'], ['12224879', 'Interactive Dynamic Video', 'http://www.interactivedynamicvideo.com/', '386', '52', 'ne0phyte', '8/4/2016 11:52'], ['10975351', 'How to Use Open Source and Shut the Fuck Up at the Same Time', 'http://hueniverse.com/2016/01/26/how-to-use-open-source-and-shut-the-fuck-up-at-the-same-time/', '39', '10', 'josep2', '1/26/2016 19:30'], ['11964716', \"Florida DJs May Face Felony for April Fools' Water Joke\", 'http://www.thewire.com/entertainment/2013/04/florida-djs-april-fools-water-joke/63798/', '2', '1', 'vezycash', '6/23/2016 22:20'], ['11919867', 'Technology ventures: From Idea to Enterprise', 'https://www.amazon.com/Technology-Ventures-Enterprise-Thomas-Byers/dp/0073523429', '3', '1', 'hswarna', '6/17/2016 0:01']]\n"
     ]
    }
   ],
   "source": [
    "#Open and read file from Hacker News\n",
    "from csv import reader\n",
    "opened_file = open('hacker_news.csv')\n",
    "read_file = reader(opened_file)\n",
    "\n",
    "#Create variable hn as a list of lists\n",
    "hn = list(read_file)\n",
    "\n",
    "#Check top five rows\n",
    "print(hn[:5])"
   ]
  },
  {
   "cell_type": "code",
   "execution_count": 2,
   "metadata": {
    "collapsed": false
   },
   "outputs": [
    {
     "name": "stdout",
     "output_type": "stream",
     "text": [
      "[['id', 'title', 'url', 'num_points', 'num_comments', 'author', 'created_at']]\n",
      "\n",
      "\n",
      "[['12224879', 'Interactive Dynamic Video', 'http://www.interactivedynamicvideo.com/', '386', '52', 'ne0phyte', '8/4/2016 11:52'], ['10975351', 'How to Use Open Source and Shut the Fuck Up at the Same Time', 'http://hueniverse.com/2016/01/26/how-to-use-open-source-and-shut-the-fuck-up-at-the-same-time/', '39', '10', 'josep2', '1/26/2016 19:30'], ['11964716', \"Florida DJs May Face Felony for April Fools' Water Joke\", 'http://www.thewire.com/entertainment/2013/04/florida-djs-april-fools-water-joke/63798/', '2', '1', 'vezycash', '6/23/2016 22:20'], ['11919867', 'Technology ventures: From Idea to Enterprise', 'https://www.amazon.com/Technology-Ventures-Enterprise-Thomas-Byers/dp/0073523429', '3', '1', 'hswarna', '6/17/2016 0:01'], ['10301696', 'Note by Note: The Making of Steinway L1037 (2007)', 'http://www.nytimes.com/2007/11/07/movies/07stein.html?_r=0', '8', '2', 'walterbell', '9/30/2015 4:12']]\n",
      "Number of rows:  20100\n"
     ]
    }
   ],
   "source": [
    "#Isolate the header row \n",
    "headers = hn[:1]\n",
    "hn = hn[1:]\n",
    "\n",
    "#Check outcome\n",
    "print(headers)\n",
    "print('\\n')\n",
    "print(hn[:5])\n",
    "print('Number of rows: ', len(hn))"
   ]
  },
  {
   "cell_type": "markdown",
   "metadata": {},
   "source": [
    "Hacker news has two very typical posts in its website. The \"Ask HN\", in which users ask the community a question and the \"Show HN\", in which users show the community a new feature program or technology. In both types of posts the users start the post title with the phrase \"Ask HN\"/\"Show HN\".\n",
    "\n",
    "For our analysis we will separate the posts in three categories: `ask_posts`, `show_posts` and `other_posts`. To do this we must have in mind that user not always capitalize the posts the same way. "
   ]
  },
  {
   "cell_type": "code",
   "execution_count": 3,
   "metadata": {
    "collapsed": false
   },
   "outputs": [
    {
     "name": "stdout",
     "output_type": "stream",
     "text": [
      "Ask HN Posts:  1744 Show HN Posts:  1162 Other Posts:  17194\n",
      "Total Number of Posts:  20100\n"
     ]
    }
   ],
   "source": [
    "ask_posts = []\n",
    "show_posts = []\n",
    "other_posts = []\n",
    "for row in hn:\n",
    "    title = row[1]\n",
    "    if title.lower().startswith('ask hn'): #we use the method str.startswith(), but befor, we set the title to lowercase\n",
    "        ask_posts.append(row)\n",
    "    elif title.lower().startswith('show hn'):\n",
    "        show_posts.append(row)\n",
    "    else:\n",
    "        other_posts.append(row)\n",
    "        \n",
    "#Check to see if wee have the same number of posts as before (20,098)\n",
    "print('Ask HN Posts: ', len(ask_posts),\n",
    "     'Show HN Posts: ', len(show_posts),\n",
    "     'Other Posts: ', len(other_posts)\n",
    "     )\n",
    "\n",
    "print('Total Number of Posts: ', len(ask_posts) + len(show_posts) + len(other_posts)) # we do get the same number of rows as before"
   ]
  },
  {
   "cell_type": "markdown",
   "metadata": {},
   "source": [
    "Now that we have separated the types of posts from the Hacker News file, we will check to see the average number of comments each of these types of posts generate on the site. "
   ]
  },
  {
   "cell_type": "code",
   "execution_count": 4,
   "metadata": {
    "collapsed": false
   },
   "outputs": [
    {
     "name": "stdout",
     "output_type": "stream",
     "text": [
      "Average Comments \"Ask HN\": 14.04 \n",
      "Average Comments \"Show HN\": 10.32 \n",
      "Average Comments Other Posts: 26.87\n"
     ]
    }
   ],
   "source": [
    "#Set empty lists for the totals\n",
    "total_ask_comments = []\n",
    "total_show_comments = [] \n",
    "total_other_comments = []\n",
    "\n",
    "for row in ask_posts:\n",
    "    num_comments = row[4] #set the number of columns and set it as an interger\n",
    "    num_comments = int(num_comments)\n",
    "    total_ask_comments.append(num_comments)\n",
    "\n",
    "for row in show_posts:\n",
    "    num_comments = row[4]\n",
    "    num_comments = int(num_comments)\n",
    "    total_show_comments.append(num_comments)\n",
    "\n",
    "for row in other_posts:\n",
    "    num_comments = row[4]\n",
    "    num_comments = int(num_comments)\n",
    "    total_other_comments.append(num_comments)\n",
    "    \n",
    "#Set the variables for the averages\n",
    "avg_ask_comments = sum(total_ask_comments) / len(ask_posts)\n",
    "avg_show_comments = sum(total_show_comments) / len(show_posts)\n",
    "avg_other_comments = sum(total_other_comments) / len(other_posts)\n",
    "    \n",
    "#Print averages in a nice form\n",
    "print('Average Comments \"Ask HN\": {:.2f}'.format(avg_ask_comments), '\\n'\n",
    "     'Average Comments \"Show HN\": {:.2f}'.format(avg_show_comments),'\\n'\n",
    "     'Average Comments Other Posts: {:.2f}'.format(avg_other_comments))    "
   ]
  },
  {
   "cell_type": "markdown",
   "metadata": {},
   "source": [
    "From the analisis above we can se that, on average, \"Ask HN\" posts have more comments (14.04 avg comments per post) than the \"Show HN\" posts (10.32 avg comments per post). Neither however has more comments than the other posts that are not \"Ask HN\" nor \"Show HN\" which has 26.87 avg comments per post.\n",
    "\n",
    "I would argue that it is not surprising to see that the \"Ask HN\" posts have a higher average comment per post than the \"Show HN\" since the \"Ask HN\" is looking for answers to a questions and that the community is responding in the comments.\n",
    "\n",
    "*I will focus the remainder of this analysis to focus on theses \"Ask HN\" posts and try to extract more information from the data set*"
   ]
  },
  {
   "cell_type": "code",
   "execution_count": 5,
   "metadata": {
    "collapsed": false
   },
   "outputs": [
    {
     "name": "stdout",
     "output_type": "stream",
     "text": [
      "Hour:  0    # of Posts ->  55\n",
      "Hour:  1    # of Posts ->  60\n",
      "Hour:  2    # of Posts ->  58\n",
      "Hour:  3    # of Posts ->  54\n",
      "Hour:  4    # of Posts ->  47\n",
      "Hour:  5    # of Posts ->  46\n",
      "Hour:  6    # of Posts ->  44\n",
      "Hour:  7    # of Posts ->  34\n",
      "Hour:  8    # of Posts ->  48\n",
      "Hour:  9    # of Posts ->  45\n",
      "Hour:  10    # of Posts ->  59\n",
      "Hour:  11    # of Posts ->  58\n",
      "Hour:  12    # of Posts ->  73\n",
      "Hour:  13    # of Posts ->  85\n",
      "Hour:  14    # of Posts ->  107\n",
      "Hour:  15    # of Posts ->  116\n",
      "Hour:  16    # of Posts ->  108\n",
      "Hour:  17    # of Posts ->  100\n",
      "Hour:  18    # of Posts ->  109\n",
      "Hour:  19    # of Posts ->  110\n",
      "Hour:  20    # of Posts ->  80\n",
      "Hour:  21    # of Posts ->  109\n",
      "Hour:  22    # of Posts ->  71\n",
      "Hour:  23    # of Posts ->  68\n",
      "Hour:  0    Total Comments ->  447\n",
      "Hour:  1    Total Comments ->  683\n",
      "Hour:  2    Total Comments ->  1381\n",
      "Hour:  3    Total Comments ->  421\n",
      "Hour:  4    Total Comments ->  337\n",
      "Hour:  5    Total Comments ->  464\n",
      "Hour:  6    Total Comments ->  397\n",
      "Hour:  7    Total Comments ->  267\n",
      "Hour:  8    Total Comments ->  492\n",
      "Hour:  9    Total Comments ->  251\n",
      "Hour:  10    Total Comments ->  793\n",
      "Hour:  11    Total Comments ->  641\n",
      "Hour:  12    Total Comments ->  687\n",
      "Hour:  13    Total Comments ->  1253\n",
      "Hour:  14    Total Comments ->  1416\n",
      "Hour:  15    Total Comments ->  4477\n",
      "Hour:  16    Total Comments ->  1814\n",
      "Hour:  17    Total Comments ->  1146\n",
      "Hour:  18    Total Comments ->  1439\n",
      "Hour:  19    Total Comments ->  1188\n",
      "Hour:  20    Total Comments ->  1722\n",
      "Hour:  21    Total Comments ->  1745\n",
      "Hour:  22    Total Comments ->  479\n",
      "Hour:  23    Total Comments ->  543\n"
     ]
    }
   ],
   "source": [
    "import datetime as dt\n",
    "#Organize data of interest (datetime data and number of comments) in a single list of lists\n",
    "result_list = []\n",
    "for row in ask_posts:\n",
    "    created_at = row[6]\n",
    "    created_at = dt.datetime.strptime(created_at, '%m/%d/%Y %H:%M')\n",
    "    num_comments = row[4]\n",
    "    num_comments = int(num_comments)\n",
    "    result_list.append([created_at, num_comments])\n",
    "    \n",
    "#Create dictionaries to set frequency per hour and number of comments per hour\n",
    "counts_by_hour = {}\n",
    "comments_by_hour = {}\n",
    "for row in result_list:\n",
    "    hour = row[0].hour\n",
    "    num_comments = row[1]\n",
    "    if hour in  counts_by_hour:\n",
    "        counts_by_hour[hour] += 1              #create a frequency table of posts per hour\n",
    "        comments_by_hour[hour] += num_comments #create a key(hour) and add the number of comments as to get a total of comments/hour\n",
    "    else:\n",
    "        counts_by_hour[hour] = 1\n",
    "        comments_by_hour[hour] = num_comments\n",
    "\n",
    "#Print results nicely        \n",
    "for key, value in counts_by_hour.items():\n",
    "    print('Hour: ', key, '   # of Posts -> ', value)\n",
    "\n",
    "for key, value in comments_by_hour.items():\n",
    "    print('Hour: ', key, '   Total Comments -> ', value)    "
   ]
  },
  {
   "cell_type": "code",
   "execution_count": 6,
   "metadata": {
    "collapsed": false
   },
   "outputs": [
    {
     "name": "stdout",
     "output_type": "stream",
     "text": [
      "Hour: 0   Average Comments per Ask Post: 8.13\n",
      "Hour: 1   Average Comments per Ask Post: 11.38\n",
      "Hour: 2   Average Comments per Ask Post: 23.81\n",
      "Hour: 3   Average Comments per Ask Post: 7.80\n",
      "Hour: 4   Average Comments per Ask Post: 7.17\n",
      "Hour: 5   Average Comments per Ask Post: 10.09\n",
      "Hour: 6   Average Comments per Ask Post: 9.02\n",
      "Hour: 7   Average Comments per Ask Post: 7.85\n",
      "Hour: 8   Average Comments per Ask Post: 10.25\n",
      "Hour: 9   Average Comments per Ask Post: 5.58\n",
      "Hour: 10   Average Comments per Ask Post: 13.44\n",
      "Hour: 11   Average Comments per Ask Post: 11.05\n",
      "Hour: 12   Average Comments per Ask Post: 9.41\n",
      "Hour: 13   Average Comments per Ask Post: 14.74\n",
      "Hour: 14   Average Comments per Ask Post: 13.23\n",
      "Hour: 15   Average Comments per Ask Post: 38.59\n",
      "Hour: 16   Average Comments per Ask Post: 16.80\n",
      "Hour: 17   Average Comments per Ask Post: 11.46\n",
      "Hour: 18   Average Comments per Ask Post: 13.20\n",
      "Hour: 19   Average Comments per Ask Post: 10.80\n",
      "Hour: 20   Average Comments per Ask Post: 21.52\n",
      "Hour: 21   Average Comments per Ask Post: 16.01\n",
      "Hour: 22   Average Comments per Ask Post: 6.75\n",
      "Hour: 23   Average Comments per Ask Post: 7.99\n"
     ]
    }
   ],
   "source": [
    "#Created an empty list to later append the average commentes per post per hour of day \n",
    "avg_by_hour = []\n",
    "\n",
    "#loop over the dictionaries to create the averages and append them to the empty list \"avg_by_hour\"\n",
    "for key in comments_by_hour:\n",
    "    avg = comments_by_hour[key] / counts_by_hour[key]\n",
    "    avg_by_hour.append([key, avg])\n",
    "    \n",
    "#Print results nicely\n",
    "for row in avg_by_hour:\n",
    "    print('Hour: {}   Average Comments per Ask Post: {:.2f}'.format(row[0], row[1]))"
   ]
  },
  {
   "cell_type": "code",
   "execution_count": 7,
   "metadata": {
    "collapsed": false
   },
   "outputs": [
    {
     "name": "stdout",
     "output_type": "stream",
     "text": [
      "Top 5 Hours for Ask Posts Comments\n",
      "15:00: 38.59 average comments per ask post\n",
      "02:00: 23.81 average comments per ask post\n",
      "20:00: 21.52 average comments per ask post\n",
      "16:00: 16.80 average comments per ask post\n",
      "21:00: 16.01 average comments per ask post\n"
     ]
    }
   ],
   "source": [
    "#Rearranging the list to be able to sort by the average comments per post\n",
    "swap_avg_by_hour = []\n",
    "for row in avg_by_hour:\n",
    "    swap_avg_by_hour.append([row[1], row[0]])\n",
    "    \n",
    "sorted_swap = sorted(swap_avg_by_hour, reverse = True)\n",
    "\n",
    "#Print results nicely\n",
    "print(\"Top 5 Hours for Ask Posts Comments\")\n",
    "for element in sorted_swap[:5]:\n",
    "    hour_format = dt.datetime.strptime( str(element[1]),'%H')  #conveting into datetime object\n",
    "    hour_format = hour_format.strftime('%H:%M')          #formating hour in HH:MM \n",
    "    print('{}: {:.2f} average comments per ask post'.format(hour_format, element[0]))"
   ]
  },
  {
   "cell_type": "markdown",
   "metadata": {},
   "source": [
    "Now that we have analyzed the posts by the number of comments and the hour of day, I will extend the analyzes to compare the \"Ask Posts\" and the \"Show Posts\" by the number of points achieved in the site (Upvotes minus Downvotes)"
   ]
  },
  {
   "cell_type": "code",
   "execution_count": 9,
   "metadata": {
    "collapsed": false
   },
   "outputs": [
    {
     "name": "stdout",
     "output_type": "stream",
     "text": [
      "Average \"Ask HN\" Post Points: 15.06 \n",
      "Average \"Show HN\" Post Points: 27.56 \n",
      "Average Other Posts Points: 55.41\n"
     ]
    }
   ],
   "source": [
    "#Create empty lists to record the number of points and determine average points per type of post\n",
    "total_ask_points = []\n",
    "total_show_points = []\n",
    "total_other_points = []\n",
    "\n",
    "#Append number of points to the list\n",
    "for row in ask_posts:\n",
    "    points = int(row[3])\n",
    "    total_ask_points.append(points)\n",
    "    \n",
    "for row in show_posts:\n",
    "    points = int(row[3])\n",
    "    total_show_points.append(points)\n",
    "    \n",
    "for row in other_posts:\n",
    "    points = int(row[3])\n",
    "    total_other_points.append(points)\n",
    "    \n",
    "#Create average variables    \n",
    "avg_ask_points = sum(total_ask_points) / len(ask_posts)\n",
    "avg_show_points = sum(total_show_points) / len(show_posts)\n",
    "avg_other_points = sum(total_other_points) / len(other_posts)\n",
    "\n",
    "#print results nicely\n",
    "print('Average \"Ask HN\" Post Points: {:.2f}'.format(avg_ask_points), '\\n'\n",
    "     'Average \"Show HN\" Post Points: {:.2f}'.format(avg_show_points),'\\n'\n",
    "     'Average Other Posts Points: {:.2f}'.format(avg_other_points))"
   ]
  },
  {
   "cell_type": "markdown",
   "metadata": {},
   "source": [
    "When comparing the number of points (Upvotes minus Downvotes) of the \"Show HN\" posts and the \"Ask HN\" posts we see that the \"Show HN\" posts have on average a higher number of points (27.56 points). Therefore we will continue our analyzes on the number of points exclusively on the \"Show HN\" posts."
   ]
  },
  {
   "cell_type": "code",
   "execution_count": 11,
   "metadata": {
    "collapsed": false
   },
   "outputs": [
    {
     "name": "stdout",
     "output_type": "stream",
     "text": [
      "Hour:  0    # of Posts ->  31\n",
      "Hour:  1    # of Posts ->  28\n",
      "Hour:  2    # of Posts ->  30\n",
      "Hour:  3    # of Posts ->  27\n",
      "Hour:  4    # of Posts ->  26\n",
      "Hour:  5    # of Posts ->  19\n",
      "Hour:  6    # of Posts ->  16\n",
      "Hour:  7    # of Posts ->  26\n",
      "Hour:  8    # of Posts ->  34\n",
      "Hour:  9    # of Posts ->  30\n",
      "Hour:  10    # of Posts ->  36\n",
      "Hour:  11    # of Posts ->  44\n",
      "Hour:  12    # of Posts ->  61\n",
      "Hour:  13    # of Posts ->  99\n",
      "Hour:  14    # of Posts ->  86\n",
      "Hour:  15    # of Posts ->  78\n",
      "Hour:  16    # of Posts ->  93\n",
      "Hour:  17    # of Posts ->  93\n",
      "Hour:  18    # of Posts ->  61\n",
      "Hour:  19    # of Posts ->  55\n",
      "Hour:  20    # of Posts ->  60\n",
      "Hour:  21    # of Posts ->  47\n",
      "Hour:  22    # of Posts ->  46\n",
      "Hour:  23    # of Posts ->  36\n",
      "Hour:  0    Total Points ->  1173\n",
      "Hour:  1    Total Points ->  700\n",
      "Hour:  2    Total Points ->  340\n",
      "Hour:  3    Total Points ->  679\n",
      "Hour:  4    Total Points ->  386\n",
      "Hour:  5    Total Points ->  104\n",
      "Hour:  6    Total Points ->  375\n",
      "Hour:  7    Total Points ->  494\n",
      "Hour:  8    Total Points ->  519\n",
      "Hour:  9    Total Points ->  553\n",
      "Hour:  10    Total Points ->  681\n",
      "Hour:  11    Total Points ->  1480\n",
      "Hour:  12    Total Points ->  2543\n",
      "Hour:  13    Total Points ->  2438\n",
      "Hour:  14    Total Points ->  2187\n",
      "Hour:  15    Total Points ->  2228\n",
      "Hour:  16    Total Points ->  2634\n",
      "Hour:  17    Total Points ->  2521\n",
      "Hour:  18    Total Points ->  2215\n",
      "Hour:  19    Total Points ->  1702\n",
      "Hour:  20    Total Points ->  1819\n",
      "Hour:  21    Total Points ->  866\n",
      "Hour:  22    Total Points ->  1856\n",
      "Hour:  23    Total Points ->  1526\n"
     ]
    }
   ],
   "source": [
    "#Create empty dictionaries to create frequency tables\n",
    "counts_per_hour = {}\n",
    "points_per_hour = {}\n",
    "\n",
    "for row in show_posts:\n",
    "    points = int(row[3])\n",
    "    created_at = row[6]\n",
    "    created_at = dt.datetime.strptime(created_at, '%m/%d/%Y %H:%M')\n",
    "    hour = created_at.hour\n",
    "    if hour in counts_per_hour:\n",
    "        counts_per_hour[hour] += 1\n",
    "        points_per_hour[hour] += points\n",
    "    else:\n",
    "        counts_per_hour[hour] = 1\n",
    "        points_per_hour[hour] = points\n",
    "        \n",
    "#Print results nicely        \n",
    "for key, value in counts_per_hour.items():\n",
    "    print('Hour: ', key, '   # of Posts -> ', value)\n",
    "\n",
    "for key, value in points_per_hour.items():\n",
    "    print('Hour: ', key, '   Total Points -> ', value)   \n"
   ]
  },
  {
   "cell_type": "code",
   "execution_count": 14,
   "metadata": {
    "collapsed": false
   },
   "outputs": [
    {
     "name": "stdout",
     "output_type": "stream",
     "text": [
      "Top 5 Hours for Show Posts Points\n",
      "23:00: 42.39 average points per show post\n",
      "12:00: 41.69 average points per show post\n",
      "22:00: 40.35 average points per show post\n",
      "0:00: 37.84 average points per show post\n",
      "18:00: 36.31 average points per show post\n"
     ]
    }
   ],
   "source": [
    "points_results = []\n",
    "\n",
    "#Organize info from dictionaries and create the average points per hour\n",
    "for key in counts_per_hour:\n",
    "    hour = key\n",
    "    posts = counts_per_hour[key]\n",
    "    points = points_per_hour[key]\n",
    "    avg_points = points / posts\n",
    "    points_results.append([avg_points, hour])\n",
    "    \n",
    "#Sort and edit the print top 5 hour with highest averge points per post  \n",
    "points_results = sorted(points_results, reverse = True)\n",
    "print('Top 5 Hours for Show Posts Points')\n",
    "for element in points_results[:5]:\n",
    "    hour = element[1]\n",
    "    avg_points = element[0]\n",
    "    print('{}:00: {:.2f} average points per show post'.format(hour, avg_points))"
   ]
  },
  {
   "cell_type": "markdown",
   "metadata": {},
   "source": [
    "Here we have the top five hours with the highest average points per post in the \"Show HN\" category. We can se that late at night (22:00 - 00:00) is an time were high scoring posts are created."
   ]
  },
  {
   "cell_type": "markdown",
   "metadata": {},
   "source": [
    "Finally in our analysis of the hacker news posts data set we will analyze the day of the week in which posts receive the most points. My guess would be that post created/posted during weekdays will receive higher points that the one on the weekends"
   ]
  },
  {
   "cell_type": "code",
   "execution_count": 15,
   "metadata": {
    "collapsed": false
   },
   "outputs": [
    {
     "name": "stdout",
     "output_type": "stream",
     "text": [
      "[[386, 'Thursday'], [39, 'Tuesday'], [2, 'Thursday'], [3, 'Friday'], [8, 'Wednesday']]\n"
     ]
    }
   ],
   "source": [
    "#Empty list that I will use to store our information\n",
    "results_day = []\n",
    "\n",
    "#Loop the original dataset hn and extract the information we want to analyze\n",
    "for row in hn:\n",
    "    created_at = row[6]\n",
    "    created_at = dt.datetime.strptime(created_at, '%m/%d/%Y %H:%M')\n",
    "    created_at = created_at.strftime('%A')\n",
    "    num_points = int(row[3])\n",
    "    results_day.append([num_points, created_at])\n",
    "    \n",
    "#Preview list\n",
    "print(results_day[:5])"
   ]
  },
  {
   "cell_type": "code",
   "execution_count": 16,
   "metadata": {
    "collapsed": false
   },
   "outputs": [
    {
     "name": "stdout",
     "output_type": "stream",
     "text": [
      "Monday: 155,037 total posts\n",
      "Wednesday: 173,150 total posts\n",
      "Sunday: 106,485 total posts\n",
      "Saturday: 98,739 total posts\n",
      "Friday: 141,102 total posts\n",
      "Thursday: 170,824 total posts\n",
      "Tuesday: 165,614 total posts\n",
      "Monday: 3,084 total points\n",
      "Wednesday: 3,328 total points\n",
      "Sunday: 2,062 total points\n",
      "Saturday: 2,025 total points\n",
      "Friday: 2,985 total points\n",
      "Thursday: 3,318 total points\n",
      "Tuesday: 3,298 total points\n"
     ]
    }
   ],
   "source": [
    "#create a dictionary to count the posts per day and the sum of points per day \n",
    "points_by_day = {}\n",
    "count_by_day = {}\n",
    "for row in results_day:\n",
    "    day_of_week = row[1]\n",
    "    num_points = row[0]\n",
    "    if day_of_week in points_by_day:\n",
    "        points_by_day[day_of_week] += 1 \n",
    "        count_by_day[day_of_week] += num_points\n",
    "    else:\n",
    "        points_by_day[day_of_week] = 1\n",
    "        count_by_day[day_of_week] = num_points\n",
    "\n",
    "#Print results nicely        \n",
    "for key, value in count_by_day.items():\n",
    "    print('{}: {:,} total posts'.format(key, value))\n",
    "    \n",
    "for key, value in points_by_day.items():\n",
    "    print('{}: {:,} total points'.format(key, value))\n"
   ]
  },
  {
   "cell_type": "code",
   "execution_count": 20,
   "metadata": {
    "collapsed": false
   },
   "outputs": [
    {
     "name": "stdout",
     "output_type": "stream",
     "text": [
      "Friday: 0.02115 average points per post\n",
      "Saturday: 0.02051 average points per post\n",
      "Tuesday: 0.01991 average points per post\n",
      "Monday: 0.01989 average points per post\n",
      "Thursday: 0.01942 average points per post\n",
      "Sunday: 0.01936 average points per post\n",
      "Wednesday: 0.01922 average points per post\n"
     ]
    }
   ],
   "source": [
    "avg_points_day = []\n",
    "\n",
    "for key in points_by_day:\n",
    "    day = key\n",
    "    avg_points = points_by_day[key] / count_by_day[key]\n",
    "    avg_points_day.append([avg_points, key])\n",
    "    \n",
    "#Sorting and printing in nice format\n",
    "avg_points_day = sorted(avg_points_day, reverse = True)\n",
    "\n",
    "for element in avg_points_day:\n",
    "    day = element[1]\n",
    "    avg_points = element[0]\n",
    "    print('{}: {:.5f} average points per post'.format(day, avg_points))"
   ]
  },
  {
   "cell_type": "markdown",
   "metadata": {},
   "source": [
    "in this last table we can see that my hypothesis was wrong. Weekdays such as Monday of Wednesday perform worse thatn weekend days such as Saturday (or Friday, which I consider weekend :P). "
   ]
  },
  {
   "cell_type": "markdown",
   "metadata": {},
   "source": [
    "### **Conclusion**\n",
    "In this proyect we explored the data set containing information about posts on the website Hacker News. We analyzed typical posts like \"Show HN\" or \"Ask HN\"."
   ]
  }
 ],
 "metadata": {
  "kernelspec": {
   "display_name": "Python 3",
   "language": "python",
   "name": "python3"
  },
  "language_info": {
   "codemirror_mode": {
    "name": "ipython",
    "version": 3
   },
   "file_extension": ".py",
   "mimetype": "text/x-python",
   "name": "python",
   "nbconvert_exporter": "python",
   "pygments_lexer": "ipython3",
   "version": "3.4.3"
  }
 },
 "nbformat": 4,
 "nbformat_minor": 2
}
