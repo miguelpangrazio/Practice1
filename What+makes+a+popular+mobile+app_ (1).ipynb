{
 "cells": [
  {
   "cell_type": "markdown",
   "metadata": {},
   "source": [
    "# Analyzing Successful Free App Profiles in the AppleStore and Google Play Markets\n",
    "## Determine differentiates the boring apps from the cool ones\n",
    "In this proyect we are working with a team of appdevelopers and our task as junior data scientists is to find the profile of the most successful types of apps in both the **Appstore** and **googleplaystore**"
   ]
  },
  {
   "cell_type": "code",
   "execution_count": 1,
   "metadata": {
    "collapsed": true
   },
   "outputs": [],
   "source": [
    "# Opened Files\n",
    "opened_ios = open('AppleStore.csv')\n",
    "opened_android = open('googleplaystore.csv')\n",
    "\n",
    "# Read as a list of lists \n",
    "from csv import reader\n",
    "AppleStore = list(reader(opened_ios))\n",
    "googleplaystore = list(reader(opened_android))"
   ]
  },
  {
   "cell_type": "code",
   "execution_count": 2,
   "metadata": {
    "collapsed": true
   },
   "outputs": [],
   "source": [
    "# Created a function to expolre data\n",
    "def explore_data(dataset, start, end, rows_and_columns=False):\n",
    "    dataset_slice = dataset[start:end]    \n",
    "    for row in dataset_slice:\n",
    "        print(row)\n",
    "        print('\\n') # adds a new (empty) line after each row\n",
    "\n",
    "    if rows_and_columns:\n",
    "        print('Number of rows:', len(dataset))\n",
    "        print('Number of columns:', len(dataset[0]))"
   ]
  },
  {
   "cell_type": "code",
   "execution_count": 3,
   "metadata": {
    "collapsed": false
   },
   "outputs": [
    {
     "name": "stdout",
     "output_type": "stream",
     "text": [
      "['284882215', 'Facebook', '389879808', 'USD', '0.0', '2974676', '212', '3.5', '3.5', '95.0', '4+', 'Social Networking', '37', '1', '29', '1']\n",
      "\n",
      "\n",
      "['389801252', 'Instagram', '113954816', 'USD', '0.0', '2161558', '1289', '4.5', '4.0', '10.23', '12+', 'Photo & Video', '37', '0', '29', '1']\n",
      "\n",
      "\n",
      "['529479190', 'Clash of Clans', '116476928', 'USD', '0.0', '2130805', '579', '4.5', '4.5', '9.24.12', '9+', 'Games', '38', '5', '18', '1']\n",
      "\n",
      "\n",
      "['420009108', 'Temple Run', '65921024', 'USD', '0.0', '1724546', '3842', '4.5', '4.0', '1.6.2', '9+', 'Games', '40', '5', '1', '1']\n",
      "\n",
      "\n",
      "Number of rows: 7198\n",
      "Number of columns: 16\n",
      "['Photo Editor & Candy Camera & Grid & ScrapBook', 'ART_AND_DESIGN', '4.1', '159', '19M', '10,000+', 'Free', '0', 'Everyone', 'Art & Design', 'January 7, 2018', '1.0.0', '4.0.3 and up']\n",
      "\n",
      "\n",
      "['Coloring book moana', 'ART_AND_DESIGN', '3.9', '967', '14M', '500,000+', 'Free', '0', 'Everyone', 'Art & Design;Pretend Play', 'January 15, 2018', '2.0.0', '4.0.3 and up']\n",
      "\n",
      "\n",
      "['U Launcher Lite – FREE Live Cool Themes, Hide Apps', 'ART_AND_DESIGN', '4.7', '87510', '8.7M', '5,000,000+', 'Free', '0', 'Everyone', 'Art & Design', 'August 1, 2018', '1.2.4', '4.0.3 and up']\n",
      "\n",
      "\n",
      "['Sketch - Draw & Paint', 'ART_AND_DESIGN', '4.5', '215644', '25M', '50,000,000+', 'Free', '0', 'Teen', 'Art & Design', 'June 8, 2018', 'Varies with device', '4.2 and up']\n",
      "\n",
      "\n",
      "Number of rows: 10842\n",
      "Number of columns: 13\n"
     ]
    }
   ],
   "source": [
    "# AppleStore\n",
    "explore_data(AppleStore, 1, 5, True)\n",
    "\n",
    "# Google Play Store\n",
    "explore_data(googleplaystore, 1, 5, True)"
   ]
  },
  {
   "cell_type": "code",
   "execution_count": 4,
   "metadata": {
    "collapsed": false
   },
   "outputs": [
    {
     "name": "stdout",
     "output_type": "stream",
     "text": [
      "[['id', 'track_name', 'size_bytes', 'currency', 'price', 'rating_count_tot', 'rating_count_ver', 'user_rating', 'user_rating_ver', 'ver', 'cont_rating', 'prime_genre', 'sup_devices.num', 'ipadSc_urls.num', 'lang.num', 'vpp_lic']]\n",
      "\n",
      "\n",
      "[['App', 'Category', 'Rating', 'Reviews', 'Size', 'Installs', 'Type', 'Price', 'Content Rating', 'Genres', 'Last Updated', 'Current Ver', 'Android Ver']]\n"
     ]
    }
   ],
   "source": [
    "# Checking Headers\n",
    "print(AppleStore[:1])\n",
    "print('\\n')\n",
    "print(googleplaystore[:1])"
   ]
  },
  {
   "cell_type": "markdown",
   "metadata": {},
   "source": [
    "## Unifying the Data for our purposes\n",
    "To unify the data we must be aware that the number of columns are not the same on both data files. We must select the columns that will be useful for our analysis and disregard the rest. When unifing the columns of the **AppleStore** data and the **googlestore** data we must make sure that the values are kept under their corresponding header column.\n"
   ]
  },
  {
   "cell_type": "code",
   "execution_count": 5,
   "metadata": {
    "collapsed": false
   },
   "outputs": [
    {
     "name": "stdout",
     "output_type": "stream",
     "text": [
      "13\n",
      "12\n",
      "13\n"
     ]
    }
   ],
   "source": [
    "#Checking row ranges with apparent error (found on a blog site)\n",
    "print(len(googleplaystore[10472]))\n",
    "print(len(googleplaystore[10473]))\n",
    "print(len(googleplaystore[10474]))\n",
    "\n",
    "#Row 10473 has one fewer data point"
   ]
  },
  {
   "cell_type": "code",
   "execution_count": 6,
   "metadata": {
    "collapsed": false
   },
   "outputs": [
    {
     "name": "stdout",
     "output_type": "stream",
     "text": [
      "['Life Made WI-Fi Touchscreen Photo Frame', '1.9', '19', '3.0M', '1,000+', 'Free', '0', 'Everyone', '', 'February 11, 2018', '1.0.19', '4.0 and up']\n"
     ]
    }
   ],
   "source": [
    "#Row 10473 has a missing value\n",
    "print(googleplaystore[10473])\n"
   ]
  },
  {
   "cell_type": "code",
   "execution_count": 7,
   "metadata": {
    "collapsed": true
   },
   "outputs": [],
   "source": [
    "#We are going to Delete the row with missing info on the googleplaystore dataset\n",
    "del googleplaystore[10473]"
   ]
  },
  {
   "cell_type": "code",
   "execution_count": 8,
   "metadata": {
    "collapsed": false
   },
   "outputs": [
    {
     "name": "stdout",
     "output_type": "stream",
     "text": [
      "['osmino Wi-Fi: free WiFi', 'TOOLS', '4.2', '134203', '4.1M', '10,000,000+', 'Free', '0', 'Everyone', 'Tools', 'August 7, 2018', '6.06.14', '4.4 and up']\n"
     ]
    }
   ],
   "source": [
    "#We check again to make sure that the row has been deleted\n",
    "print(googleplaystore[10473])"
   ]
  },
  {
   "cell_type": "markdown",
   "metadata": {},
   "source": [
    "### Duplicate entries in the googleplaystore data set\n",
    "By reading the Kaggle blogs online we have discovered if that the dataset has some duplicate entries for some apps. In the following few cells we will try to identify and delete the duplicate entries (we will delete the \"less relevant\"/older duplicates)"
   ]
  },
  {
   "cell_type": "code",
   "execution_count": 9,
   "metadata": {
    "collapsed": false
   },
   "outputs": [
    {
     "name": "stdout",
     "output_type": "stream",
     "text": [
      "Number of duplicate apps:  1181\n",
      "\n",
      "\n",
      "Number of unique apps:  9659\n",
      "\n",
      "\n",
      "Example of duplicate entry for apps:  ['Quick PDF Scanner + OCR FREE', 'Box', 'Google My Business', 'ZOOM Cloud Meetings', 'join.me - Simple Meetings', 'Box', 'Zenefits', 'Google Ads', 'Google My Business', 'Slack']\n"
     ]
    }
   ],
   "source": [
    "# We are checking for duplicate app entries and identify how many unique app are in the Google Play Store dataset\n",
    "unique_apps = []\n",
    "duplicate_apps = []\n",
    "for app in googleplaystore[1:]:\n",
    "    app_name = app[0]\n",
    "    if app_name in unique_apps:\n",
    "        duplicate_apps.append(app_name)\n",
    "    else:\n",
    "        unique_apps.append(app_name)\n",
    "        \n",
    "print('Number of duplicate apps: ', len(duplicate_apps))\n",
    "print('\\n')\n",
    "print('Number of unique apps: ', len(unique_apps))\n",
    "print('\\n')\n",
    "print('Example of duplicate entry for apps: ', duplicate_apps[:10])"
   ]
  },
  {
   "cell_type": "markdown",
   "metadata": {},
   "source": [
    "In order to be more precise with our data, instead of removing the duplicated apps randomly we will delete the entries with less reviews, assuming that those entries are older"
   ]
  },
  {
   "cell_type": "code",
   "execution_count": 10,
   "metadata": {
    "collapsed": false
   },
   "outputs": [
    {
     "name": "stdout",
     "output_type": "stream",
     "text": [
      "Number of items in our new dictionary 9659\n",
      "key: Jaumo Dating, Flirt & Live Video, value: 900064.0  \n",
      "\n",
      "key: ES App Locker, value: 32207.0  \n",
      "\n",
      "key: C Examples, value: 1002.0  \n",
      "\n",
      "key: Realtor.com Real Estate: Homes for Sale and Rent, value: 162243.0  \n",
      "\n",
      "key: A+ Mobile, value: 730.0  \n",
      "\n"
     ]
    }
   ],
   "source": [
    "# Create a dictionary and alow only one entry per app (the entry with the highest review count) \n",
    "reviews_max = {}\n",
    "for app in googleplaystore[1:]:\n",
    "    name = app[0]\n",
    "    n_reviews = float(app[3])\n",
    "    if name in reviews_max and n_reviews > reviews_max[name]:\n",
    "        reviews_max[name] = n_reviews\n",
    "    elif name not in reviews_max:\n",
    "        reviews_max[name] = n_reviews\n",
    "        \n",
    "print('Number of items in our new dictionary', len(reviews_max)) # Must equal 9659 as show above\n",
    "for key in list(reviews_max)[:5]:\n",
    "    print(\"key: {}, value: {} \".format(key, reviews_max[key]), '\\n')"
   ]
  },
  {
   "cell_type": "code",
   "execution_count": 11,
   "metadata": {
    "collapsed": false
   },
   "outputs": [
    {
     "name": "stdout",
     "output_type": "stream",
     "text": [
      "9659\n",
      "[['Photo Editor & Candy Camera & Grid & ScrapBook', 'ART_AND_DESIGN', '4.1', '159', '19M', '10,000+', 'Free', '0', 'Everyone', 'Art & Design', 'January 7, 2018', '1.0.0', '4.0.3 and up'], ['U Launcher Lite – FREE Live Cool Themes, Hide Apps', 'ART_AND_DESIGN', '4.7', '87510', '8.7M', '5,000,000+', 'Free', '0', 'Everyone', 'Art & Design', 'August 1, 2018', '1.2.4', '4.0.3 and up'], ['Sketch - Draw & Paint', 'ART_AND_DESIGN', '4.5', '215644', '25M', '50,000,000+', 'Free', '0', 'Teen', 'Art & Design', 'June 8, 2018', 'Varies with device', '4.2 and up'], ['Pixel Draw - Number Art Coloring Book', 'ART_AND_DESIGN', '4.3', '967', '2.8M', '100,000+', 'Free', '0', 'Everyone', 'Art & Design;Creativity', 'June 20, 2018', '1.1', '4.4 and up'], ['Paper flowers instructions', 'ART_AND_DESIGN', '4.4', '167', '5.6M', '50,000+', 'Free', '0', 'Everyone', 'Art & Design', 'March 26, 2017', '1.0', '2.3 and up'], ['Smoke Effect Photo Maker - Smoke Editor', 'ART_AND_DESIGN', '3.8', '178', '19M', '50,000+', 'Free', '0', 'Everyone', 'Art & Design', 'April 26, 2018', '1.1', '4.0.3 and up'], ['Infinite Painter', 'ART_AND_DESIGN', '4.1', '36815', '29M', '1,000,000+', 'Free', '0', 'Everyone', 'Art & Design', 'June 14, 2018', '6.1.61.1', '4.2 and up'], ['Garden Coloring Book', 'ART_AND_DESIGN', '4.4', '13791', '33M', '1,000,000+', 'Free', '0', 'Everyone', 'Art & Design', 'September 20, 2017', '2.9.2', '3.0 and up'], ['Kids Paint Free - Drawing Fun', 'ART_AND_DESIGN', '4.7', '121', '3.1M', '10,000+', 'Free', '0', 'Everyone', 'Art & Design;Creativity', 'July 3, 2018', '2.8', '4.0.3 and up'], ['Text on Photo - Fonteee', 'ART_AND_DESIGN', '4.4', '13880', '28M', '1,000,000+', 'Free', '0', 'Everyone', 'Art & Design', 'October 27, 2017', '1.0.4', '4.1 and up']]\n"
     ]
    }
   ],
   "source": [
    "# With the help of the created list reviews_max we are going to clean the main list and leave only the app we are interested in\n",
    "# The list \"already_added\" prevents entries with the same number of reviews to be included twice\n",
    "\n",
    "android_clean = []\n",
    "already_added = []\n",
    "for app in googleplaystore[1:]:\n",
    "    name = app[0]\n",
    "    n_reviews = float(app[3])\n",
    "    if n_reviews == reviews_max[name] and name not in already_added:\n",
    "        android_clean.append(app)\n",
    "        already_added.append(name)\n",
    "    \n",
    "print(len(android_clean))\n",
    "print(android_clean[:10])    "
   ]
  },
  {
   "cell_type": "code",
   "execution_count": 12,
   "metadata": {
    "collapsed": false
   },
   "outputs": [
    {
     "name": "stdout",
     "output_type": "stream",
     "text": [
      "True\n",
      "False\n",
      "True\n",
      "True\n",
      "True\n"
     ]
    }
   ],
   "source": [
    "# Ceating a function to identify english app names\n",
    "def is_english(phrase):\n",
    "    non_english = 0\n",
    "    for letter in phrase:\n",
    "        if ord(letter) > 127:\n",
    "            non_english += 1\n",
    "        if non_english > 3:  #Since some apps contain emojis and other characters we only exclude those with +3 non-english characters\n",
    "            return False\n",
    "    return True\n",
    "        \n",
    "print(is_english('Instagram'))\n",
    "print(is_english('爱奇艺PPS -《欢乐颂2》电视剧热播'))\n",
    "print(is_english('Docs To Go™ Free Office Suite'))\n",
    "print(is_english('Instachat 😜'))\n",
    "print(is_english('😜 Instachat '))\n",
    "#Testing our new function"
   ]
  },
  {
   "cell_type": "markdown",
   "metadata": {},
   "source": [
    "Although our function is not perfect and some english apps might have been excluded (those with more than three non-english characters like emojis) the function is pretty accurate for our purposes"
   ]
  },
  {
   "cell_type": "code",
   "execution_count": 13,
   "metadata": {
    "collapsed": false
   },
   "outputs": [
    {
     "name": "stdout",
     "output_type": "stream",
     "text": [
      "9614\n",
      "6184\n"
     ]
    }
   ],
   "source": [
    "#We use the above function to create a new lists and include only apps whose title pass the is_english function\n",
    "ios_clean = []\n",
    "andr_clean = []\n",
    "\n",
    "for app in android_clean:\n",
    "    if is_english(app[0]):\n",
    "        andr_clean.append(app)\n",
    "        \n",
    "for app in AppleStore:\n",
    "    if is_english(app[1]):\n",
    "        ios_clean.append(app)\n",
    "\n",
    "#We print the new lengths to see how mane rows we will be working with        \n",
    "print(len(andr_clean))\n",
    "print(len(ios_clean))"
   ]
  },
  {
   "cell_type": "code",
   "execution_count": 14,
   "metadata": {
    "collapsed": true
   },
   "outputs": [],
   "source": [
    "# Lastly, we create 2 final lists and only include the free apps, since that is what we are interested in\n",
    "free_ios = []\n",
    "free_android = []\n",
    "for app in ios_clean[1:]:\n",
    "    price = float(app[4])\n",
    "    if price == 0:\n",
    "        free_ios.append(app)\n",
    "        \n",
    "for app in andr_clean:\n",
    "    app_type = app[6]\n",
    "    if app_type != 'Paid': #Employed another method than above to practice\n",
    "        free_android.append(app)"
   ]
  },
  {
   "cell_type": "code",
   "execution_count": 15,
   "metadata": {
    "collapsed": false
   },
   "outputs": [
    {
     "name": "stdout",
     "output_type": "stream",
     "text": [
      "Android Free:  8864\n",
      "IOS Free:  3222\n"
     ]
    }
   ],
   "source": [
    "# Display the rows in each final version of the datasets\n",
    "print('Android Free: ', len(free_android))\n",
    "print('IOS Free: ', len(free_ios))"
   ]
  },
  {
   "cell_type": "markdown",
   "metadata": {},
   "source": [
    "### Most common app profiles for both IOS and Android\n",
    "Since we want to help our team build an app that will work well on Android and IOS, we have to identify what app profiles thrive on both of these platforms. In the next cells we are goind to explore the most common genres of the apps that run on both platforms."
   ]
  },
  {
   "cell_type": "code",
   "execution_count": 16,
   "metadata": {
    "collapsed": true
   },
   "outputs": [],
   "source": [
    "# Creating a function to show the frequency data tables\n",
    "def freq_table(dataset, index):\n",
    "    frequency = {}\n",
    "    for row in dataset:\n",
    "        genre = row[index]\n",
    "        if genre in frequency:\n",
    "            frequency[genre] += 1\n",
    "        else:\n",
    "            frequency[genre] = 1\n",
    "    for element in frequency:\n",
    "        frequency[element] /= len(dataset)\n",
    "    return frequency    "
   ]
  },
  {
   "cell_type": "code",
   "execution_count": 17,
   "metadata": {
    "collapsed": true
   },
   "outputs": [],
   "source": [
    "def display_table(dataset, index):\n",
    "    table = freq_table(dataset, index)\n",
    "    table_display = []\n",
    "    for key in table:\n",
    "        key_val_as_tuple = (table[key], key)\n",
    "        table_display.append(key_val_as_tuple)\n",
    "\n",
    "    table_sorted = sorted(table_display, reverse = True)\n",
    "    for entry in table_sorted:\n",
    "        print(entry[1], ':', entry[0])\n"
   ]
  },
  {
   "cell_type": "code",
   "execution_count": 18,
   "metadata": {
    "collapsed": false
   },
   "outputs": [
    {
     "name": "stdout",
     "output_type": "stream",
     "text": [
      "Games : 0.5816263190564867\n",
      "Entertainment : 0.07883302296710118\n",
      "Photo & Video : 0.04965859714463067\n",
      "Education : 0.03662321539416512\n",
      "Social Networking : 0.032898820608317815\n",
      "Shopping : 0.0260707635009311\n",
      "Utilities : 0.025139664804469275\n",
      "Sports : 0.021415270018621976\n",
      "Music : 0.020484171322160148\n",
      "Health & Fitness : 0.020173805090006207\n",
      "Productivity : 0.01738050900062073\n",
      "Lifestyle : 0.015828677839851025\n",
      "News : 0.01334574798261949\n",
      "Travel : 0.012414649286157667\n",
      "Finance : 0.0111731843575419\n",
      "Weather : 0.008690254500310366\n",
      "Food & Drink : 0.008069522036002483\n",
      "Reference : 0.00558659217877095\n",
      "Business : 0.005276225946617008\n",
      "Book : 0.004345127250155183\n",
      "Navigation : 0.00186219739292365\n",
      "Medical : 0.00186219739292365\n",
      "Catalogs : 0.0012414649286157666\n",
      "None\n",
      "\n",
      "\n",
      "Tools : 0.08449909747292418\n",
      "Entertainment : 0.06069494584837545\n",
      "Education : 0.05347472924187725\n",
      "Business : 0.04591606498194946\n",
      "Productivity : 0.03892148014440433\n",
      "Lifestyle : 0.03892148014440433\n",
      "Finance : 0.03700361010830325\n",
      "Medical : 0.03531137184115524\n",
      "Sports : 0.03463447653429603\n",
      "Personalization : 0.03316787003610108\n",
      "Communication : 0.032378158844765345\n",
      "Action : 0.03102436823104693\n",
      "Health & Fitness : 0.030798736462093863\n",
      "Photography : 0.02944494584837545\n",
      "News & Magazines : 0.027978339350180504\n",
      "Social : 0.026624548736462094\n",
      "Travel & Local : 0.023240072202166066\n",
      "Shopping : 0.022450361010830325\n",
      "Books & Reference : 0.021435018050541516\n",
      "Simulation : 0.020419675090252706\n",
      "Dating : 0.01861462093862816\n",
      "Arcade : 0.018501805054151624\n",
      "Video Players & Editors : 0.017712093862815883\n",
      "Casual : 0.01759927797833935\n",
      "Maps & Navigation : 0.013989169675090252\n",
      "Food & Drink : 0.012409747292418772\n",
      "Puzzle : 0.01128158844765343\n",
      "Racing : 0.009927797833935019\n",
      "Role Playing : 0.009363718411552346\n",
      "Libraries & Demo : 0.009363718411552346\n",
      "Auto & Vehicles : 0.009250902527075812\n",
      "Strategy : 0.009138086642599278\n",
      "House & Home : 0.008235559566787004\n",
      "Weather : 0.008009927797833934\n",
      "Events : 0.007107400722021661\n",
      "Adventure : 0.006768953068592058\n",
      "Comics : 0.006092057761732852\n",
      "Beauty : 0.005979241877256318\n",
      "Art & Design : 0.005979241877256318\n",
      "Parenting : 0.004963898916967509\n",
      "Card : 0.004512635379061372\n",
      "Casino : 0.0042870036101083035\n",
      "Trivia : 0.004174187725631769\n",
      "Educational;Education : 0.0039485559566787\n",
      "Board : 0.003835740072202166\n",
      "Educational : 0.0037229241877256318\n",
      "Education;Education : 0.003384476534296029\n",
      "Word : 0.002594765342960289\n",
      "Casual;Pretend Play : 0.00236913357400722\n",
      "Music : 0.002030685920577617\n",
      "Racing;Action & Adventure : 0.0016922382671480144\n",
      "Puzzle;Brain Games : 0.0016922382671480144\n",
      "Entertainment;Music & Video : 0.0016922382671480144\n",
      "Casual;Brain Games : 0.0013537906137184115\n",
      "Casual;Action & Adventure : 0.0013537906137184115\n",
      "Arcade;Action & Adventure : 0.0012409747292418773\n",
      "Action;Action & Adventure : 0.0010153429602888086\n",
      "Educational;Pretend Play : 0.0009025270758122744\n",
      "Simulation;Action & Adventure : 0.00078971119133574\n",
      "Parenting;Education : 0.00078971119133574\n",
      "Entertainment;Brain Games : 0.00078971119133574\n",
      "Board;Brain Games : 0.00078971119133574\n",
      "Parenting;Music & Video : 0.0006768953068592057\n",
      "Educational;Brain Games : 0.0006768953068592057\n",
      "Casual;Creativity : 0.0006768953068592057\n",
      "Art & Design;Creativity : 0.0006768953068592057\n",
      "Education;Pretend Play : 0.0005640794223826715\n",
      "Role Playing;Pretend Play : 0.0004512635379061372\n",
      "Education;Creativity : 0.0004512635379061372\n",
      "Role Playing;Action & Adventure : 0.0003384476534296029\n",
      "Puzzle;Action & Adventure : 0.0003384476534296029\n",
      "Entertainment;Creativity : 0.0003384476534296029\n",
      "Entertainment;Action & Adventure : 0.0003384476534296029\n",
      "Educational;Creativity : 0.0003384476534296029\n",
      "Educational;Action & Adventure : 0.0003384476534296029\n",
      "Education;Music & Video : 0.0003384476534296029\n",
      "Education;Brain Games : 0.0003384476534296029\n",
      "Education;Action & Adventure : 0.0003384476534296029\n",
      "Adventure;Action & Adventure : 0.0003384476534296029\n",
      "Video Players & Editors;Music & Video : 0.0002256317689530686\n",
      "Sports;Action & Adventure : 0.0002256317689530686\n",
      "Simulation;Pretend Play : 0.0002256317689530686\n",
      "Puzzle;Creativity : 0.0002256317689530686\n",
      "Music;Music & Video : 0.0002256317689530686\n",
      "Entertainment;Pretend Play : 0.0002256317689530686\n",
      "Casual;Education : 0.0002256317689530686\n",
      "Board;Action & Adventure : 0.0002256317689530686\n",
      "Video Players & Editors;Creativity : 0.0001128158844765343\n",
      "Trivia;Education : 0.0001128158844765343\n",
      "Travel & Local;Action & Adventure : 0.0001128158844765343\n",
      "Tools;Education : 0.0001128158844765343\n",
      "Strategy;Education : 0.0001128158844765343\n",
      "Strategy;Creativity : 0.0001128158844765343\n",
      "Strategy;Action & Adventure : 0.0001128158844765343\n",
      "Simulation;Education : 0.0001128158844765343\n",
      "Role Playing;Brain Games : 0.0001128158844765343\n",
      "Racing;Pretend Play : 0.0001128158844765343\n",
      "Puzzle;Education : 0.0001128158844765343\n",
      "Parenting;Brain Games : 0.0001128158844765343\n",
      "Music & Audio;Music & Video : 0.0001128158844765343\n",
      "Lifestyle;Pretend Play : 0.0001128158844765343\n",
      "Lifestyle;Education : 0.0001128158844765343\n",
      "Health & Fitness;Education : 0.0001128158844765343\n",
      "Health & Fitness;Action & Adventure : 0.0001128158844765343\n",
      "Entertainment;Education : 0.0001128158844765343\n",
      "Communication;Creativity : 0.0001128158844765343\n",
      "Comics;Creativity : 0.0001128158844765343\n",
      "Casual;Music & Video : 0.0001128158844765343\n",
      "Card;Action & Adventure : 0.0001128158844765343\n",
      "Books & Reference;Education : 0.0001128158844765343\n",
      "Art & Design;Pretend Play : 0.0001128158844765343\n",
      "Art & Design;Action & Adventure : 0.0001128158844765343\n",
      "Arcade;Pretend Play : 0.0001128158844765343\n",
      "Adventure;Education : 0.0001128158844765343\n",
      "None\n",
      "\n",
      "\n",
      "FAMILY : 0.18907942238267147\n",
      "GAME : 0.09724729241877256\n",
      "TOOLS : 0.08461191335740072\n",
      "BUSINESS : 0.04591606498194946\n",
      "LIFESTYLE : 0.039034296028880866\n",
      "PRODUCTIVITY : 0.03892148014440433\n",
      "FINANCE : 0.03700361010830325\n",
      "MEDICAL : 0.03531137184115524\n",
      "SPORTS : 0.03395758122743682\n",
      "PERSONALIZATION : 0.03316787003610108\n",
      "COMMUNICATION : 0.032378158844765345\n",
      "HEALTH_AND_FITNESS : 0.030798736462093863\n",
      "PHOTOGRAPHY : 0.02944494584837545\n",
      "NEWS_AND_MAGAZINES : 0.027978339350180504\n",
      "SOCIAL : 0.026624548736462094\n",
      "TRAVEL_AND_LOCAL : 0.023352888086642598\n",
      "SHOPPING : 0.022450361010830325\n",
      "BOOKS_AND_REFERENCE : 0.021435018050541516\n",
      "DATING : 0.01861462093862816\n",
      "VIDEO_PLAYERS : 0.017937725631768955\n",
      "MAPS_AND_NAVIGATION : 0.013989169675090252\n",
      "FOOD_AND_DRINK : 0.012409747292418772\n",
      "EDUCATION : 0.011620036101083033\n",
      "ENTERTAINMENT : 0.009589350180505414\n",
      "LIBRARIES_AND_DEMO : 0.009363718411552346\n",
      "AUTO_AND_VEHICLES : 0.009250902527075812\n",
      "HOUSE_AND_HOME : 0.008235559566787004\n",
      "WEATHER : 0.008009927797833934\n",
      "EVENTS : 0.007107400722021661\n",
      "PARENTING : 0.006543321299638989\n",
      "ART_AND_DESIGN : 0.006430505415162455\n",
      "COMICS : 0.006204873646209386\n",
      "BEAUTY : 0.005979241877256318\n",
      "None\n"
     ]
    }
   ],
   "source": [
    "#Showing frequency tables for genres in AppleStore and for genres & catergories in Google Play Store\n",
    "print(display_table(free_ios, 11))\n",
    "print('\\n')\n",
    "print(display_table(free_android, 9))\n",
    "print('\\n')\n",
    "print(display_table(free_android, 1))"
   ]
  },
  {
   "cell_type": "code",
   "execution_count": 19,
   "metadata": {
    "collapsed": false
   },
   "outputs": [
    {
     "name": "stdout",
     "output_type": "stream",
     "text": [
      "Catalogs :  4004.0\n",
      "Medical :  612.0\n",
      "Finance :  31467.94\n",
      "Education :  7003.98\n",
      "Health & Fitness :  23298.02\n",
      "Navigation :  86090.33\n",
      "Shopping :  26919.69\n",
      "Travel :  28243.8\n",
      "Entertainment :  14029.83\n",
      "Games :  22788.67\n",
      "Lifestyle :  16485.76\n",
      "Food & Drink :  33333.92\n",
      "News :  21248.02\n",
      "Productivity :  21028.41\n",
      "Social Networking :  71548.35\n",
      "Book :  39758.5\n",
      "Utilities :  18684.46\n",
      "Photo & Video :  28441.54\n",
      "Business :  7491.12\n",
      "Weather :  52279.89\n",
      "Sports :  23008.9\n",
      "Music :  57326.53\n",
      "Reference :  74942.11\n"
     ]
    }
   ],
   "source": [
    "#Showing a table for the average number of rating per app in each genre in the AppleStore dataset\n",
    "genre_ios = freq_table(free_ios, 11)\n",
    "for genre in genre_ios:\n",
    "    total = 0\n",
    "    len_genre = 0\n",
    "    for app in free_ios:\n",
    "        genre_app = app[11]\n",
    "        if genre_app == genre:\n",
    "            rating = float(app[5])\n",
    "            total += rating\n",
    "            len_genre += 1\n",
    "    avg_user_ratings = round(total / len_genre,2)\n",
    "    print(genre, ': ', avg_user_ratings)\n"
   ]
  },
  {
   "cell_type": "markdown",
   "metadata": {},
   "source": [
    "Navigation seeems like the genre with the most average number of ratings in the IOS platform. That is some what strange, lets see what might be causing that..."
   ]
  },
  {
   "cell_type": "code",
   "execution_count": 20,
   "metadata": {
    "collapsed": false
   },
   "outputs": [
    {
     "name": "stdout",
     "output_type": "stream",
     "text": [
      "Waze - GPS Navigation, Maps & Real-time Traffic :  345046\n",
      "Google Maps - Navigation & Transit :  154911\n",
      "Geocaching® :  12811\n",
      "CoPilot GPS – Car Navigation & Offline Maps :  3582\n",
      "ImmobilienScout24: Real Estate Search in Germany :  187\n",
      "Railway Route Search :  5\n"
     ]
    }
   ],
   "source": [
    "for app in free_ios:\n",
    "    if app [11] == 'Navigation':\n",
    "        print(app[1], ': ', app[5])"
   ]
  },
  {
   "cell_type": "markdown",
   "metadata": {},
   "source": [
    "What about the *Reference* apps? What the heck are those anyways?"
   ]
  },
  {
   "cell_type": "code",
   "execution_count": 21,
   "metadata": {
    "collapsed": false
   },
   "outputs": [
    {
     "name": "stdout",
     "output_type": "stream",
     "text": [
      "Bible : 985920\n",
      "Dictionary.com Dictionary & Thesaurus : 200047\n",
      "Dictionary.com Dictionary & Thesaurus for iPad : 54175\n",
      "Google Translate : 26786\n",
      "Muslim Pro: Ramadan 2017 Prayer Times, Azan, Quran : 18418\n",
      "New Furniture Mods - Pocket Wiki & Game Tools for Minecraft PC Edition : 17588\n",
      "Merriam-Webster Dictionary : 16849\n",
      "Night Sky : 12122\n",
      "City Maps for Minecraft PE - The Best Maps for Minecraft Pocket Edition (MCPE) : 8535\n",
      "LUCKY BLOCK MOD ™ for Minecraft PC Edition - The Best Pocket Wiki & Mods Installer Tools : 4693\n",
      "GUNS MODS for Minecraft PC Edition - Mods Tools : 1497\n",
      "Guides for Pokémon GO - Pokemon GO News and Cheats : 826\n",
      "WWDC : 762\n",
      "Horror Maps for Minecraft PE - Download The Scariest Maps for Minecraft Pocket Edition (MCPE) Free : 718\n",
      "VPN Express : 14\n",
      "Real Bike Traffic Rider Virtual Reality Glasses : 8\n",
      "教えて!goo : 0\n",
      "Jishokun-Japanese English Dictionary & Translator : 0\n"
     ]
    }
   ],
   "source": [
    "for app in free_ios:\n",
    "    if app[-5] == 'Reference':\n",
    "        print(app[1], ':', app[5])"
   ]
  },
  {
   "cell_type": "markdown",
   "metadata": {},
   "source": [
    "## Now lets check out the most popular apps by genre on the google play platform"
   ]
  },
  {
   "cell_type": "code",
   "execution_count": 22,
   "metadata": {
    "collapsed": false
   },
   "outputs": [
    {
     "name": "stdout",
     "output_type": "stream",
     "text": [
      "FINANCE :  1387692.48 Number of apps:  328 Apps with +10M reviews :  2\n",
      "EVENTS :  253542.22 Number of apps:  63 Apps with +10M reviews :  0\n",
      "BEAUTY :  513151.89 Number of apps:  53 Apps with +10M reviews :  0\n",
      "NEWS_AND_MAGAZINES :  9549178.47 Number of apps:  248 Apps with +10M reviews :  4\n",
      "BUSINESS :  1712290.15 Number of apps:  407 Apps with +10M reviews :  7\n",
      "HOUSE_AND_HOME :  1331540.56 Number of apps:  73 Apps with +10M reviews :  0\n",
      "MEDICAL :  120550.62 Number of apps:  313 Apps with +10M reviews :  0\n",
      "FOOD_AND_DRINK :  1924897.74 Number of apps:  110 Apps with +10M reviews :  0\n",
      "SPORTS :  3638640.14 Number of apps:  301 Apps with +10M reviews :  9\n",
      "WEATHER :  5074486.2 Number of apps:  71 Apps with +10M reviews :  4\n",
      "PARENTING :  542603.62 Number of apps:  58 Apps with +10M reviews :  0\n",
      "HEALTH_AND_FITNESS :  4188821.99 Number of apps:  273 Apps with +10M reviews :  3\n",
      "ENTERTAINMENT :  11640705.88 Number of apps:  85 Apps with +10M reviews :  9\n",
      "LIBRARIES_AND_DEMO :  638503.73 Number of apps:  83 Apps with +10M reviews :  0\n",
      "PERSONALIZATION :  5201482.61 Number of apps:  294 Apps with +10M reviews :  13\n",
      "ART_AND_DESIGN :  1986335.09 Number of apps:  57 Apps with +10M reviews :  1\n",
      "PHOTOGRAPHY :  17840110.4 Number of apps:  261 Apps with +10M reviews :  41\n",
      "PRODUCTIVITY :  16787331.34 Number of apps:  345 Apps with +10M reviews :  33\n",
      "TRAVEL_AND_LOCAL :  13984077.71 Number of apps:  207 Apps with +10M reviews :  9\n",
      "LIFESTYLE :  1437816.27 Number of apps:  346 Apps with +10M reviews :  2\n",
      "MAPS_AND_NAVIGATION :  4056941.77 Number of apps:  124 Apps with +10M reviews :  4\n",
      "COMICS :  817657.27 Number of apps:  55 Apps with +10M reviews :  0\n",
      "EDUCATION :  1833495.15 Number of apps:  103 Apps with +10M reviews :  0\n",
      "DATING :  854028.83 Number of apps:  165 Apps with +10M reviews :  0\n",
      "BOOKS_AND_REFERENCE :  8767811.89 Number of apps:  190 Apps with +10M reviews :  5\n",
      "COMMUNICATION :  38456119.17 Number of apps:  287 Apps with +10M reviews :  34\n",
      "VIDEO_PLAYERS :  24727872.45 Number of apps:  159 Apps with +10M reviews :  19\n",
      "FAMILY :  3695641.82 Number of apps:  1676 Apps with +10M reviews :  45\n",
      "GAME :  15588015.6 Number of apps:  862 Apps with +10M reviews :  111\n",
      "TOOLS :  10801391.3 Number of apps:  750 Apps with +10M reviews :  52\n",
      "AUTO_AND_VEHICLES :  647317.82 Number of apps:  82 Apps with +10M reviews :  0\n",
      "SHOPPING :  7036877.31 Number of apps:  199 Apps with +10M reviews :  12\n",
      "SOCIAL :  23253652.13 Number of apps:  236 Apps with +10M reviews :  18\n"
     ]
    }
   ],
   "source": [
    "# Repeting the process of crating a table with the average number of rating per app in each category\n",
    "category_android = freq_table(free_android, 1)\n",
    "for category in category_android:\n",
    "    total = 0 \n",
    "    len_category = 0 \n",
    "    popular_apps = 0 #creating a variable for very popular apps with more than 10M reviews\n",
    "    for app in free_android:\n",
    "        if app[1] == category:\n",
    "            n_installs = app[5]\n",
    "            n_installs = n_installs.replace('+', '')\n",
    "            n_installs = float(n_installs.replace(',', ''))\n",
    "            total += n_installs\n",
    "            #above we have cleaned the strings such as \"+\" and \",\" from the data and transformed it to a float to perform calculations \n",
    "            len_category += 1\n",
    "            if n_installs > 10000000:\n",
    "                popular_apps += 1\n",
    "    avg_num_installs = total / len_category\n",
    "    print(category, ': ', round(avg_num_installs,2), 'Number of apps: ', len_category, 'Apps with +10M reviews', ': ', popular_apps)\n",
    "    #print('\\n')           "
   ]
  },
  {
   "cell_type": "markdown",
   "metadata": {
    "collapsed": true
   },
   "source": [
    "We see that the are some categories that have an impresive amount of average rating that might be skewed by very popular apps (Popular apps are app with more than 10M reviews). Lets explore this phenomena in the communications & NEws and magazines category."
   ]
  },
  {
   "cell_type": "code",
   "execution_count": 23,
   "metadata": {
    "collapsed": false
   },
   "outputs": [
    {
     "name": "stdout",
     "output_type": "stream",
     "text": [
      "WhatsApp Messenger :  1,000,000,000+\n",
      "Google Duo - High Quality Video Calls :  500,000,000+\n",
      "Messenger – Text and Video Chat for Free :  1,000,000,000+\n",
      "imo free video calls and chat :  500,000,000+\n",
      "Skype - free IM & video calls :  1,000,000,000+\n",
      "LINE: Free Calls & Messages :  500,000,000+\n",
      "Google Chrome: Fast & Secure :  1,000,000,000+\n",
      "UC Browser - Fast Download Private & Secure :  500,000,000+\n",
      "Gmail :  1,000,000,000+\n",
      "Hangouts :  1,000,000,000+\n",
      "Viber Messenger :  500,000,000+\n"
     ]
    }
   ],
   "source": [
    "#Exploring the apps with high review in the Communication category \n",
    "for app in free_android:\n",
    "    if app[1] == \"COMMUNICATION\" and (app[5] == '1,000,000,000+' or\n",
    "                                      app[5] == '500,000,000+'):\n",
    "        print(app[0], ': ', app[5])"
   ]
  },
  {
   "cell_type": "code",
   "execution_count": 24,
   "metadata": {
    "collapsed": false
   },
   "outputs": [
    {
     "name": "stdout",
     "output_type": "stream",
     "text": [
      "Average installs for cummunicaion apps excluding apps with over 100M installs:  3603485.3884615386\n"
     ]
    }
   ],
   "source": [
    "#Recalculating the average reviews per app in the category \"Comunications\" without including apps with over 100M reviews\n",
    "under_100M = []\n",
    "for app in free_android:\n",
    "    category = app[1]\n",
    "    n_installs = app[5]\n",
    "    n_installs = n_installs.replace('+', '')\n",
    "    n_installs = float(n_installs.replace(',', ''))\n",
    "    if category == 'COMMUNICATION' and n_installs < 100000000:\n",
    "        under_100M.append(n_installs)\n",
    "        \n",
    "print('Average installs for cummunicaion apps excluding apps with over 100M installs: ', sum(under_100M) / len(under_100M))\n"
   ]
  },
  {
   "cell_type": "code",
   "execution_count": 25,
   "metadata": {
    "collapsed": false
   },
   "outputs": [
    {
     "name": "stdout",
     "output_type": "stream",
     "text": [
      "Twitter :  500,000,000+\n",
      "Flipboard: News For Our Time :  500,000,000+\n",
      "Google News :  1,000,000,000+\n"
     ]
    }
   ],
   "source": [
    "#Exploring the apps with high review in the News & Magazines category\n",
    "for app in free_android:\n",
    "    if app[1] == \"NEWS_AND_MAGAZINES\" and (app[5] == '1,000,000,000+' or\n",
    "                                      app[5] == '500,000,000+'):\n",
    "        print(app[0], ': ', app[5])"
   ]
  },
  {
   "cell_type": "code",
   "execution_count": 26,
   "metadata": {
    "collapsed": false
   },
   "outputs": [
    {
     "name": "stdout",
     "output_type": "stream",
     "text": [
      "Average installs for news and magazines apps excluding apps with over 100M installs:  1502841.8775510204\n"
     ]
    }
   ],
   "source": [
    "#Recalculating the average reviews per app in the category \"News and Magazines\" without including apps with over 100M reviews (Outliers)\n",
    "under_100M = []\n",
    "for app in free_android:\n",
    "    category = app[1]\n",
    "    n_installs = app[5]\n",
    "    n_installs = n_installs.replace('+', '')\n",
    "    n_installs = float(n_installs.replace(',', ''))\n",
    "    if category == 'NEWS_AND_MAGAZINES' and n_installs < 100000000:\n",
    "        under_100M.append(n_installs)\n",
    "        \n",
    "print('Average installs for news and magazines apps excluding apps with over 100M installs: ', sum(under_100M) / len(under_100M))"
   ]
  },
  {
   "cell_type": "code",
   "execution_count": 27,
   "metadata": {
    "collapsed": false
   },
   "outputs": [
    {
     "name": "stdout",
     "output_type": "stream",
     "text": [
      "Average installs for entertainment apps excluding apps with over 10M installs:  1597500.0\n"
     ]
    }
   ],
   "source": [
    "#Recalculating the average reviews per app in the category \"Entertainment\" without including apps with over 100M reviews\n",
    "under_100M = []\n",
    "for app in free_android:\n",
    "    category = app[1]\n",
    "    n_installs = app[5]\n",
    "    n_installs = n_installs.replace('+', '')\n",
    "    n_installs = float(n_installs.replace(',', ''))\n",
    "    if category == 'ENTERTAINMENT' and n_installs < 10000000:\n",
    "        under_100M.append(n_installs)\n",
    "        \n",
    "print('Average installs for entertainment apps excluding apps with over 10M installs: ', sum(under_100M) / len(under_100M))"
   ]
  },
  {
   "cell_type": "code",
   "execution_count": 28,
   "metadata": {
    "collapsed": false
   },
   "outputs": [
    {
     "name": "stdout",
     "output_type": "stream",
     "text": [
      "Average installs for books and reference apps excluding apps with over 10M installs:  457134.0963855422\n"
     ]
    }
   ],
   "source": [
    "#Recalculating the average reviews per app in the category \"Books and Reference\" without including apps with over 100M reviews\n",
    "under_100M = []\n",
    "for app in free_android:\n",
    "    category = app[1]\n",
    "    n_installs = app[5]\n",
    "    n_installs = n_installs.replace('+', '')\n",
    "    n_installs = float(n_installs.replace(',', ''))\n",
    "    if category == 'BOOKS_AND_REFERENCE' and n_installs < 10000000:\n",
    "        under_100M.append(n_installs)\n",
    "        \n",
    "print('Average installs for books and reference apps excluding apps with over 10M installs: ', sum(under_100M) / len(under_100M))"
   ]
  },
  {
   "cell_type": "code",
   "execution_count": 29,
   "metadata": {
    "collapsed": false
   },
   "outputs": [
    {
     "name": "stdout",
     "output_type": "stream",
     "text": [
      "Average installs for Photography apps excluding apps with over 10M installs:  1142753.4662576688\n"
     ]
    }
   ],
   "source": [
    "#Recalculating the average reviews per app in the category \"Photography\" without including apps with over 100M reviews\n",
    "under_100M = []\n",
    "for app in free_android:\n",
    "    category = app[1]\n",
    "    n_installs = app[5]\n",
    "    n_installs = n_installs.replace('+', '')\n",
    "    n_installs = float(n_installs.replace(',', ''))\n",
    "    if category == 'PHOTOGRAPHY' and n_installs < 10000000:\n",
    "        under_100M.append(n_installs)\n",
    "        \n",
    "print('Average installs for Photography apps excluding apps with over 10M installs: ', sum(under_100M) / len(under_100M))"
   ]
  },
  {
   "cell_type": "markdown",
   "metadata": {},
   "source": [
    "## Recomendation for App developers\n",
    "#### Start with an app in the entertainment or photography category\n",
    "When looking at the highest average ratings per category of apps in the googleplay platform we notice some great performing categories and some not so good ones. \n",
    "After ignoring the ouliers that drastically change the averages we can say to our developers is that the best categories to focus on are the *Photography* category. \n",
    "The new app could be in the form of a *photo editor or a easy instagram filter creator* (which are popular right now). Another essential questions that is left unanswerred in this proyect is how could the team develop in app purchases and how effective is this category in monetizing in app purchases. That could be a great proyect if we were to continue with this proyecto of developing an app."
   ]
  }
 ],
 "metadata": {
  "kernelspec": {
   "display_name": "Python 3",
   "language": "python",
   "name": "python3"
  },
  "language_info": {
   "codemirror_mode": {
    "name": "ipython",
    "version": 3
   },
   "file_extension": ".py",
   "mimetype": "text/x-python",
   "name": "python",
   "nbconvert_exporter": "python",
   "pygments_lexer": "ipython3",
   "version": "3.4.3"
  }
 },
 "nbformat": 4,
 "nbformat_minor": 2
}
